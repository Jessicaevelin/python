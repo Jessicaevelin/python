{
  "nbformat": 4,
  "nbformat_minor": 0,
  "metadata": {
    "colab": {
      "name": "Script_limpeza_dados_SES.ipynb",
      "provenance": [],
      "collapsed_sections": [],
      "authorship_tag": "ABX9TyMtr6rAdS3QvjTMNWdTezEY",
      "include_colab_link": true
    },
    "kernelspec": {
      "name": "python3",
      "display_name": "Python 3"
    }
  },
  "cells": [
    {
      "cell_type": "markdown",
      "metadata": {
        "id": "view-in-github",
        "colab_type": "text"
      },
      "source": [
        "<a href=\"https://colab.research.google.com/github/Jessicaevelin/python/blob/main/Script_limpeza_dados_SES.ipynb\" target=\"_parent\"><img src=\"https://colab.research.google.com/assets/colab-badge.svg\" alt=\"Open In Colab\"/></a>"
      ]
    },
    {
      "cell_type": "markdown",
      "metadata": {
        "id": "b7f3naMFgyi4"
      },
      "source": [
        "## Antes de rodar o código, mudar o ano na celula 3 e na 9."
      ]
    },
    {
      "cell_type": "code",
      "metadata": {
        "id": "KDsh9_Foo_1G"
      },
      "source": [
        "# Pacotes\r\n",
        "import json  # Para ler o arquivo .json\r\n",
        "import pandas as pd  # Para criar o DataFrame\r\n",
        "import requests # Baixar o arquivo da internet\r\n",
        "import numpy as np # Para exportar para excel"
      ],
      "execution_count": 1,
      "outputs": []
    },
    {
      "cell_type": "code",
      "metadata": {
        "colab": {
          "base_uri": "https://localhost:8080/",
          "height": 35
        },
        "id": "1uTGe6diqTxD",
        "outputId": "0a0cf707-a4a1-46c4-a929-ff079a86e819"
      },
      "source": [
        "# Função para ler o arquivo .JSON\r\n",
        "'''\r\n",
        "def ler_json():\r\n",
        "    with open('meuarquivo.json', 'r', encoding='utf8') as f:\r\n",
        "        return json.load(f)\r\n",
        "data = ler_json()\r\n",
        "'''"
      ],
      "execution_count": 2,
      "outputs": [
        {
          "output_type": "execute_result",
          "data": {
            "application/vnd.google.colaboratory.intrinsic+json": {
              "type": "string"
            },
            "text/plain": [
              "\"\\ndef ler_json():\\n    with open('meuarquivo.json', 'r', encoding='utf8') as f:\\n        return json.load(f)\\ndata = ler_json()\\n\""
            ]
          },
          "metadata": {
            "tags": []
          },
          "execution_count": 2
        }
      ]
    },
    {
      "cell_type": "code",
      "metadata": {
        "id": "kIgIssdVrNFj"
      },
      "source": [
        "# Importar os dados diretamente do SES\r\n",
        "\r\n",
        "# Parâmetros\r\n",
        "ano = 2016 # ano dos dados contábeis\r\n",
        "\r\n",
        "# Importação do JSON (WebScraping)\r\n",
        "\r\n",
        "# Ativo\r\n",
        "url = f'http://dados.susep.gov.br/olinda-ide/servico/informacoescontabeis/versao/v1/odata/ContabeisAtivo(Ano=@Ano)?@Ano=%27{ano}%27&$format=json'\r\n",
        "\r\n",
        "# Passivo\r\n",
        "#url = f'http://dados.susep.gov.br/olinda-ide/servico/informacoescontabeis/versao/v1/odata/ContabeisPassivo(Ano=@Ano)?@Ano=%27{ano}%27&$format=json'\r\n",
        "\r\n",
        "# Documentação Request: https://requests.readthedocs.io/pt_BR/latest/user/quickstart.html\r\n",
        "data = requests.get(url)\r\n",
        "data = data.json()\r\n",
        "\r\n",
        "# Transforma o dicionário data em lista obs.: Não consegui trabalhar bem com o \r\n",
        "# formato de dicionário, lista é mais fácil\r\n",
        "dados = data['value']"
      ],
      "execution_count": 3,
      "outputs": []
    },
    {
      "cell_type": "code",
      "metadata": {
        "colab": {
          "base_uri": "https://localhost:8080/"
        },
        "id": "HpmZE6M0ryme",
        "outputId": "e5114af2-cb09-41db-b010-09174d94ad5f"
      },
      "source": [
        "# Informações básicas\r\n",
        "\r\n",
        "print(type(data))  # Tipo de variavel, Dicionario\r\n",
        "# print(data['value'])  # Localização das informações das empresas\r\n",
        "print(len(data['value']))  # Tamanho do arquivo, 70176 elementos\r\n",
        "print(data['value'][:1])  # O primeiro elemento do array"
      ],
      "execution_count": 4,
      "outputs": [
        {
          "output_type": "stream",
          "text": [
            "<class 'dict'>\n",
            "70176\n",
            "[{'entnome': 'ACVAT- PREVIDENCIA S.A.', 'cnpj': '91167361000182', 'mesreferencia': '2016-01-01', 'cmpid': 1479, 'cmptitulo': 'CIRCULANTE', 'valor': 772482.46, 'cmpnumero': 10}]\n"
          ],
          "name": "stdout"
        }
      ]
    },
    {
      "cell_type": "code",
      "metadata": {
        "colab": {
          "base_uri": "https://localhost:8080/"
        },
        "id": "-t5YW1W_uFoS",
        "outputId": "5a9efa2a-ee0a-4bc6-c385-7213215aa0a3"
      },
      "source": [
        "# Nome das contas\r\n",
        "\r\n",
        "nome_contas = []\r\n",
        "for i in range(0,33): # 33 é o indice do ativo total, depois disso é repetido\r\n",
        "    nome_contas.append(dados[i]['cmptitulo'])\r\n",
        "\r\n",
        "print(nome_contas)"
      ],
      "execution_count": 5,
      "outputs": [
        {
          "output_type": "stream",
          "text": [
            "['CIRCULANTE', 'DISPONÍVEL', 'APLICAÇÕES', 'CRÉDITOS DAS OPERAÇÕES COM SEGUROS E RESSEGUROS', 'CRÉDITOS DAS OPERAÇÕES COM PREVIDÊNCIA COMPLEMENTAR', 'CRÉDITOS DAS OPERAÇÕES DE CAPITALIZAÇÃO', 'ATIVOS DE RESSEGURO E RETROCESSÃO - PROVISÕES TÉCNICAS', 'TÍTULOS E CRÉDITOS A RECEBER', 'OUTROS VALORES E BENS', 'EMPRÉSTIMOS E DEPÓSITOS COMPULSÓRIOS', 'DESPESAS ANTECIPADAS', 'CUSTOS DE AQUISIÇÃO DIFERIDOS', 'DIFERIMENTO - VIGÊNCIA DO RISCO', 'DIFERIMENTO – OUTROS', 'ATIVO NÃO CIRCULANTE', 'REALIZÁVEL A LONGO PRAZO', 'APLICAÇÕES', 'CRÉDITOS DAS OPERAÇÕES COM SEGUROS E RESSEGUROS', 'CRÉDITOS DAS OPERAÇÕES COM PREVIDÊNCIA COMPLEMENTAR', 'CRÉDITOS DAS OPERAÇÕES COM CAPITALIZAÇÃO', 'ATIVOS DE RESSEGURO E RETROCESSÃO - PROVISÕES TÉCNICAS', 'TÍTULOS E CRÉDITOS A RECEBER', 'OUTROS VALORES E BENS', 'EMPRÉSTIMOS E DEPÓSITOS COMPULSÓRIOS', 'DESPESAS ANTECIPADAS', 'CUSTOS DE AQUISIÇÃO DIFERIDOS', 'DIFERIMENTO - VIGÊNCIA DO RISCO', 'DIFERIMENTO – OUTROS', 'INVESTIMENTOS', 'IMOBILIZADO', 'INTANGÍVEL', 'DIFERIDO', '**********   TOTAL DO ATIVO   **********']\n"
          ],
          "name": "stdout"
        }
      ]
    },
    {
      "cell_type": "code",
      "metadata": {
        "colab": {
          "base_uri": "https://localhost:8080/",
          "height": 69
        },
        "id": "mR_8QljPyABN",
        "outputId": "75eab225-f73c-40b4-f99e-989ccbbc5987"
      },
      "source": [
        " '''\r\n",
        " # Testando duas formas de pesquisar as contas no banco de dados\r\n",
        "\r\n",
        "\r\n",
        "for i in range(len(dados)):\r\n",
        "  if dados[i]['cmptitulo'] == 'DISPONÍVEL':\r\n",
        "    conta0.append(dados[i]['cmptitulo'])\r\n",
        "\r\n",
        "for i in range(len(dados)):\r\n",
        "  if dados[i]['cmptitulo'] == nome_contas[1]:\r\n",
        "    conta1.append(dados[i]['cmptitulo'])\r\n",
        "\r\n",
        "print(conta0)\r\n",
        "print(len(conta0))\r\n",
        "\r\n",
        "print(conta1)\r\n",
        "print(len(conta1))\r\n",
        "'''"
      ],
      "execution_count": 6,
      "outputs": [
        {
          "output_type": "execute_result",
          "data": {
            "application/vnd.google.colaboratory.intrinsic+json": {
              "type": "string"
            },
            "text/plain": [
              "\"\\n# Testando duas formas de pesquisar as contas no banco de dados\\n\\n\\nfor i in range(len(dados)):\\n if dados[i]['cmptitulo'] == 'DISPONÍVEL':\\n   conta0.append(dados[i]['cmptitulo'])\\n\\nfor i in range(len(dados)):\\n if dados[i]['cmptitulo'] == nome_contas[1]:\\n   conta1.append(dados[i]['cmptitulo'])\\n\\nprint(conta0)\\nprint(len(conta0))\\n\\nprint(conta1)\\nprint(len(conta1))\\n\""
            ]
          },
          "metadata": {
            "tags": []
          },
          "execution_count": 6
        }
      ]
    },
    {
      "cell_type": "code",
      "metadata": {
        "id": "8PRUAXajxbA_",
        "colab": {
          "base_uri": "https://localhost:8080/"
        },
        "outputId": "1bf928af-c0d2-46fd-a601-51f35485a6ba"
      },
      "source": [
        "# listas que vão receber os valores de cada conta\r\n",
        "    # depois encontrar um jeito menos manual de fazer isso\r\n",
        "\r\n",
        "nomes_seguradoras = []\r\n",
        "conta0  = []\r\n",
        "conta1 = []\r\n",
        "conta2 = []\r\n",
        "conta3 = []\r\n",
        "conta4 = []\r\n",
        "conta5 = []\r\n",
        "conta6 = []\r\n",
        "conta7 = []\r\n",
        "conta8 = []\r\n",
        "conta9 = []\r\n",
        "conta10 = []\r\n",
        "conta11 = []\r\n",
        "conta12 = []\r\n",
        "conta13 = []\r\n",
        "conta14 = []\r\n",
        "conta15 = []\r\n",
        "conta16 = []\r\n",
        "conta17 = []\r\n",
        "conta18 = []\r\n",
        "conta19 = []\r\n",
        "conta20 = []\r\n",
        "conta21 = []\r\n",
        "conta22 = []\r\n",
        "conta23 = []\r\n",
        "conta24 = []\r\n",
        "conta25 = []\r\n",
        "conta26 = []\r\n",
        "conta27 = []\r\n",
        "conta28 = []\r\n",
        "conta29 = []\r\n",
        "conta30 = []\r\n",
        "conta31 = []\r\n",
        "conta32 = []\r\n",
        "\r\n",
        "# Nome das contas das seguradoras acima, na ordem\r\n",
        "print(nome_contas)"
      ],
      "execution_count": 7,
      "outputs": [
        {
          "output_type": "stream",
          "text": [
            "['CIRCULANTE', 'DISPONÍVEL', 'APLICAÇÕES', 'CRÉDITOS DAS OPERAÇÕES COM SEGUROS E RESSEGUROS', 'CRÉDITOS DAS OPERAÇÕES COM PREVIDÊNCIA COMPLEMENTAR', 'CRÉDITOS DAS OPERAÇÕES DE CAPITALIZAÇÃO', 'ATIVOS DE RESSEGURO E RETROCESSÃO - PROVISÕES TÉCNICAS', 'TÍTULOS E CRÉDITOS A RECEBER', 'OUTROS VALORES E BENS', 'EMPRÉSTIMOS E DEPÓSITOS COMPULSÓRIOS', 'DESPESAS ANTECIPADAS', 'CUSTOS DE AQUISIÇÃO DIFERIDOS', 'DIFERIMENTO - VIGÊNCIA DO RISCO', 'DIFERIMENTO – OUTROS', 'ATIVO NÃO CIRCULANTE', 'REALIZÁVEL A LONGO PRAZO', 'APLICAÇÕES', 'CRÉDITOS DAS OPERAÇÕES COM SEGUROS E RESSEGUROS', 'CRÉDITOS DAS OPERAÇÕES COM PREVIDÊNCIA COMPLEMENTAR', 'CRÉDITOS DAS OPERAÇÕES COM CAPITALIZAÇÃO', 'ATIVOS DE RESSEGURO E RETROCESSÃO - PROVISÕES TÉCNICAS', 'TÍTULOS E CRÉDITOS A RECEBER', 'OUTROS VALORES E BENS', 'EMPRÉSTIMOS E DEPÓSITOS COMPULSÓRIOS', 'DESPESAS ANTECIPADAS', 'CUSTOS DE AQUISIÇÃO DIFERIDOS', 'DIFERIMENTO - VIGÊNCIA DO RISCO', 'DIFERIMENTO – OUTROS', 'INVESTIMENTOS', 'IMOBILIZADO', 'INTANGÍVEL', 'DIFERIDO', '**********   TOTAL DO ATIVO   **********']\n"
          ],
          "name": "stdout"
        }
      ]
    },
    {
      "cell_type": "code",
      "metadata": {
        "id": "sHEdQ86WgQwK"
      },
      "source": [
        ""
      ],
      "execution_count": 7,
      "outputs": []
    },
    {
      "cell_type": "code",
      "metadata": {
        "id": "YukXzPuh_uv3",
        "cellView": "code"
      },
      "source": [
        "# Selecionando as empresas, contas e seus valores de Janeiro de 2016.\n",
        "\n",
        "for i in range(len(dados)):\n",
        "  if dados[i]['mesreferencia'] == '2016-01-01':\n",
        "    if dados[i]['cmptitulo'] == nome_contas[32]:\n",
        "      nomes_seguradoras.append(dados[i]['entnome'])\n",
        "\n",
        "for i in range(len(dados)):\n",
        "    if dados[i]['mesreferencia'] == '2016-01-01':\n",
        "        if dados[i]['cmptitulo'] == nome_contas[0]:\n",
        "            conta0.append(dados[i]['valor'])\n",
        "        if dados[i]['cmptitulo'] == nome_contas[1]:\n",
        "            conta1.append(dados[i]['valor'])\n",
        "        if dados[i]['cmptitulo'] == nome_contas[2]:\n",
        "            conta2.append(dados[i]['valor'])\n",
        "        if dados[i]['cmptitulo'] == nome_contas[3]:\n",
        "            conta3.append(dados[i]['valor'])  \n",
        "        if dados[i]['cmptitulo'] == nome_contas[4]:\n",
        "            conta4.append(dados[i]['valor'])   \n",
        "        if dados[i]['cmptitulo'] == nome_contas[5]:\n",
        "            conta5.append(dados[i]['valor'])\n",
        "        if dados[i]['cmptitulo'] == nome_contas[6]:\n",
        "            conta6.append(dados[i]['valor'])                \n",
        "        if dados[i]['cmptitulo'] == nome_contas[7]:\n",
        "            conta7.append(dados[i]['valor']) \n",
        "        if dados[i]['cmptitulo'] == nome_contas[8]:\n",
        "            conta8.append(dados[i]['valor']) \n",
        "        if dados[i]['cmptitulo'] == nome_contas[9]:\n",
        "            conta9.append(dados[i]['valor']) \n",
        "        if dados[i]['cmptitulo'] == nome_contas[10]:\n",
        "            conta10.append(dados[i]['valor']) \n",
        "        if dados[i]['cmptitulo'] == nome_contas[11]:\n",
        "            conta11.append(dados[i]['valor']) \n",
        "        if dados[i]['cmptitulo'] == nome_contas[12]:\n",
        "            conta12.append(dados[i]['valor'])                     \n",
        "        if dados[i]['cmptitulo'] == nome_contas[13]:\n",
        "            conta13.append(dados[i]['valor'])  \n",
        "        if dados[i]['cmptitulo'] == nome_contas[14]:\n",
        "            conta14.append(dados[i]['valor'])  \n",
        "        if dados[i]['cmptitulo'] == nome_contas[15]:\n",
        "            conta15.append(dados[i]['valor'])  \n",
        "        if dados[i]['cmptitulo'] == nome_contas[16]:\n",
        "            conta16.append(dados[i]['valor'])                      \n",
        "        if dados[i]['cmptitulo'] == nome_contas[17]:\n",
        "            conta17.append(dados[i]['valor'])              \n",
        "        if dados[i]['cmptitulo'] == nome_contas[18]:\n",
        "            conta18.append(dados[i]['valor'])  \n",
        "        if dados[i]['cmptitulo'] == nome_contas[19]:\n",
        "            conta19.append(dados[i]['valor'])  \n",
        "        if dados[i]['cmptitulo'] == nome_contas[20]:\n",
        "            conta20.append(dados[i]['valor'])                          \n",
        "        if dados[i]['cmptitulo'] == nome_contas[21]:\n",
        "            conta21.append(dados[i]['valor'])              \n",
        "        if dados[i]['cmptitulo'] == nome_contas[22]:\n",
        "            conta22.append(dados[i]['valor'])              \n",
        "        if dados[i]['cmptitulo'] == nome_contas[23]:\n",
        "            conta23.append(dados[i]['valor'])  \n",
        "        if dados[i]['cmptitulo'] == nome_contas[24]:\n",
        "            conta24.append(dados[i]['valor'])\n",
        "        if dados[i]['cmptitulo'] == nome_contas[25]:\n",
        "            conta25.append(dados[i]['valor'])                                  \n",
        "        if dados[i]['cmptitulo'] == nome_contas[26]:\n",
        "            conta26.append(dados[i]['valor'])             \n",
        "        if dados[i]['cmptitulo'] == nome_contas[27]:\n",
        "            conta27.append(dados[i]['valor'])  \n",
        "        if dados[i]['cmptitulo'] == nome_contas[28]:\n",
        "            conta28.append(dados[i]['valor']) \n",
        "        if dados[i]['cmptitulo'] == nome_contas[29]:\n",
        "            conta29.append(dados[i]['valor']) \n",
        "        if dados[i]['cmptitulo'] == nome_contas[30]:\n",
        "            conta30.append(dados[i]['valor'])                                                \n",
        "        if dados[i]['cmptitulo'] == nome_contas[31]:\n",
        "            conta31.append(dados[i]['valor']) \n",
        "        if dados[i]['cmptitulo'] == nome_contas[32]:\n",
        "            conta32.append(dados[i]['valor']) \n",
        "\n",
        "## Continuar para as 33 contas...        \n",
        "## Lembrar que quando roda a celula mais de uma vez os dados são acumulados\n"
      ],
      "execution_count": 8,
      "outputs": []
    },
    {
      "cell_type": "code",
      "metadata": {
        "colab": {
          "base_uri": "https://localhost:8080/"
        },
        "id": "7-QOJgQAAmA7",
        "outputId": "2a2d6d48-af05-4805-da2e-545b80648f77"
      },
      "source": [
        "# Juntando os nomes, contas e valores de cada seguradora em uma só lista.\r\n",
        "\r\n",
        "informacoes_organizadas = []\r\n",
        "\r\n",
        "for a in range(len(nomes_seguradoras)):\r\n",
        "    informacoes_organizadas.append([nomes_seguradoras[a], conta0[a], conta1[a], conta2[a], conta3[a], conta4[a], conta5[a], conta6[a], conta7[a], conta8[a], conta9[a], conta10[a], conta11[a], conta12[a], conta13[a], conta14[a], conta15[a], conta16[a], conta17[a], conta18[a], conta19[a], conta20[a], conta21[a], conta22[a], conta23[a], conta24[a], conta25[a], conta26[a], conta27[a], conta28[a], conta29[a], conta30[a], conta31[a], conta32[a]]) \r\n",
        "\r\n",
        "\r\n",
        "print(informacoes_organizadas)"
      ],
      "execution_count": 9,
      "outputs": [
        {
          "output_type": "stream",
          "text": [
            "[['ACVAT- PREVIDENCIA S.A.', 772482.46, 462228.82, 269494.93, 0.0, 3321.78, 0.0, 0.0, 37436.93, 0.0, 0.0, 0.0, 0.0, 0.0, 0.0, 2698560.39, 0.0, 269494.93, 0.0, 3321.78, 0.0, 0.0, 37436.93, 0.0, 0.0, 0.0, 0.0, 0.0, 0.0, 2129017.75, 569542.64, 0.0, 0.0, 3471042.85], ['AGÊNCIA BRASILEIRA GESTORA DE FUNDOS GARANTIDORES E GARANTIAS S.A. – ABGF', 0.0, 0.0, 0.0, 0.0, 0.0, 0.0, 0.0, 0.0, 0.0, 0.0, 0.0, 0.0, 0.0, 0.0, 0.0, 0.0, 0.0, 0.0, 0.0, 0.0, 0.0, 0.0, 0.0, 0.0, 0.0, 0.0, 0.0, 0.0, 0.0, 0.0, 0.0, 0.0, 0.0], ['AIG RESSEGUROS BRASIL S.A.', 720406191.82, 10665353.27, 0.0, 0.0, 0.0, 0.0, 0.0, 0.0, 0.0, 0.0, 0.0, 0.0, 0.0, 0.0, 938054.86, 0.0, 0.0, 0.0, 0.0, 0.0, 0.0, 0.0, 0.0, 0.0, 0.0, 0.0, 0.0, 0.0, 0.0, 0.0, 938054.86, 0.0, 721344246.68], ['AIG SEGUROS BRASIL S.A.', 1528349038.3, 59930465.04, 0.0, 0.0, 0.0, 0.0, 0.0, 0.0, 0.0, 0.0, 0.0, 0.0, 0.0, 0.0, 362989847.84, 186276208.73, 0.0, 0.0, 0.0, 0.0, 0.0, 0.0, 0.0, 0.0, 0.0, 0.0, 0.0, 0.0, 85439065.96, 26168886.75, 65105686.4, 0.0, 1891338886.14], ['ALFA PREVIDÊNCIA E VIDA S.A.', 649022939.85, 516873.72, 147842724.1, 50584155.74, 0.0, 0.0, 501828269.04, 9395967.22, 0.0, 0.0, 89722.45, 0.0, 0.0, 0.0, 28372069.18, 27126059.64, 147842724.1, 50584155.74, 0.0, 0.0, 501828269.04, 9395967.22, 0.0, 0.0, 89722.45, 0.0, 0.0, 0.0, 0.0, 462570.21, 783439.33, 0.0, 677395009.03], ['Alfa Seguradora S.A.', 486733548.75, 832983.48, 0.0, 0.0, 0.0, 0.0, 0.0, 0.0, 0.0, 0.0, 0.0, 0.0, 0.0, 0.0, 20444071.98, 17383412.6, 0.0, 0.0, 0.0, 0.0, 0.0, 0.0, 0.0, 0.0, 0.0, 0.0, 0.0, 0.0, 1707073.3, 1191149.1, 162436.98, 0.0, 507177620.73], ['ALIANÇA DO BRASIL SEGUROS S.A.', 1051417111.94, 12744980.35, 505757689.37, 353461284.33, 0.0, 0.0, 518841544.91, 11114696.62, 556494.34, 0.0, 11669716.33, 67017147.36, 67017147.36, 0.0, 385274697.01, 352908633.11, 505757689.37, 353461284.33, 0.0, 0.0, 518841544.91, 11114696.62, 556494.34, 0.0, 11669716.33, 67017147.36, 67017147.36, 0.0, 412243.01, 1194434.17, 30759386.72, 0.0, 1436691808.95], ['ALLIANZ GLOBAL CORPORATE & SPECIALTY RESSEGUROS BRASIL S.A.', 1774885458.33, 10608847.03, 1370281.98, 67036391.51, 0.0, 0.0, 64461034.56, 38111326.62, 0.0, 0.0, 0.0, 15297174.06, 15297174.06, 0.0, 460646463.23, 457500261.33, 1370281.98, 67036391.51, 0.0, 0.0, 64461034.56, 38111326.62, 0.0, 0.0, 0.0, 15297174.06, 15297174.06, 0.0, 0.0, 2993109.85, 153092.05, 0.0, 2235531921.56], ['ALLIANZ SEGUROS S.A.', 3780441196.77, 4153958.22, 625851551.86, 12330274.9, 0.0, 0.0, 1298731.85, 339062.83, 0.0, 0.0, 649899.57, 8036545.12, 5032466.88, 3004078.24, 1981661144.54, 1672277545.02, 625851551.86, 12330274.9, 0.0, 0.0, 1298731.85, 339062.83, 0.0, 0.0, 649899.57, 8036545.12, 5032466.88, 3004078.24, 202876257.44, 59260710.26, 47246631.82, 0.0, 5762102341.31], ['ALM SEGURADORA S.A - MICROSSEGURADORA', 1222893.15, 10.0, 0.0, 0.0, 0.0, 0.0, 0.0, 27126059.64, 0.0, 0.0, 0.0, 0.0, 0.0, 0.0, 28925.64, 0.0, 0.0, 0.0, 0.0, 0.0, 0.0, 27126059.64, 0.0, 0.0, 0.0, 0.0, 0.0, 0.0, 0.0, 28925.64, 0.0, 0.0, 1251818.79], ['AMERICAN LIFE COMPANHIA DE SEGUROS', 157396209.91, 5561888.97, 352254221.64, 75452279.32, 0.0, 0.0, 17782072.14, 2386176.45, 3705966.87, 0.0, 992985.36, 33326863.49, 31889040.9, 1437822.59, 1930049.66, 443798.59, 352254221.64, 75452279.32, 0.0, 0.0, 17782072.14, 2386176.45, 3705966.87, 0.0, 992985.36, 33326863.49, 31889040.9, 1437822.59, 252769.55, 969056.23, 264425.29, 0.0, 159326259.57], ['ANGELUS SEGUROS S.A.', 16129465.83, 208638.23, 66122.13, 0.0, 0.0, 0.0, 758795.95, 16558494.52, 0.0, 0.0, 0.0, 0.0, 0.0, 0.0, 184627.84, 0.0, 66122.13, 0.0, 0.0, 0.0, 758795.95, 16558494.52, 0.0, 0.0, 0.0, 0.0, 0.0, 0.0, 63804.97, 71551.69, 49271.18, 0.0, 16314093.67], ['APLICAP CAPITALIZAÇÃO S.A', 2585930.83, 10862.19, 166727150.32, 617669465.27, 0.0, 558103.6, 151931213.35, 25837816.29, 922563.04, 0.0, 4279480.3, 71304443.02, 71304443.02, 0.0, 6005645.25, 5893988.2, 166727150.32, 617669465.27, 0.0, 0.0, 151931213.35, 25837816.29, 922563.04, 0.0, 4279480.3, 71304443.02, 71304443.02, 0.0, 0.0, 109346.57, 2310.48, 0.0, 8591576.08], ['APLUB - ASSOCIAÇÃO DOS PROFISSIONAIS LIBERAIS UNIVERSITÁRIOS DO BRASIL', 67130617.1, 284706.45, 288398581.78, 4036.78, 0.0, 0.0, 18926441.13, 40373279.69, 0.0, 0.0, 0.0, 5206293.73, 5206293.73, 0.0, 343729944.98, 276883543.26, 288398581.78, 4036.78, 0.0, 0.0, 18926441.13, 40373279.69, 0.0, 0.0, 0.0, 5206293.73, 5206293.73, 0.0, 55892292.97, 10954108.75, 0.0, 0.0, 410860562.08], ['APLUB CAPITALIZAÇÃO S.A.', 103001109.06, 4317148.26, 31094277.07, 332805564.88, 0.0, 0.0, 1352249284.84, 37969999.73, 0.0, 0.0, 0.0, 10157484.78, 10157484.78, 0.0, 15097992.79, 10792146.91, 31094277.07, 332805564.88, 0.0, 0.0, 1352249284.84, 37969999.73, 0.0, 0.0, 0.0, 10157484.78, 10157484.78, 0.0, 3641674.07, 664171.81, 0.0, 0.0, 118099101.85], ['ARC PREVIDÊNCIA PRIVADA', 810162.53, 589303.35, 360130935.96, 15399231.99, 0.0, 0.0, 27604831.81, 52122576.37, 0.0, 0.0, 0.0, 2242685.2, 2242685.2, 0.0, 2168506.11, 239434.12, 360130935.96, 15399231.99, 0.0, 0.0, 27604831.81, 52122576.37, 0.0, 0.0, 0.0, 2242685.2, 2242685.2, 0.0, 1907439.11, 21632.88, 0.0, 0.0, 2978668.64], ['ARCESP PREVIDÊNCIA PRIVADA', 168909.54, 138094.11, 435998240.26, 1179013128.96, 0.0, 0.0, 1850022881.6, 10105989.82, 26145361.84, 0.0, 17820890.64, 257180745.43, 257180745.43, 0.0, 1380000.0, 0.0, 435998240.26, 1179013128.96, 0.0, 0.0, 1850022881.6, 10105989.82, 26145361.84, 0.0, 17820890.64, 257180745.43, 257180745.43, 0.0, 1380000.0, 0.0, 0.0, 0.0, 1548909.54], ['ARGO SEGUROS BRASIL S.A.', 177889448.79, 1358805.49, 1190475923.11, 55813112.95, 0.0, 0.0, 0.0, 418384012.27, 15998.74, 7588497.95, 0.0, 0.0, 0.0, 0.0, 113972461.5, 111130471.19, 1190475923.11, 55813112.95, 0.0, 0.0, 0.0, 418384012.27, 15998.74, 7588497.95, 0.0, 0.0, 0.0, 0.0, 0.0, 1070610.94, 1771379.37, 0.0, 291861910.29], ['ARUANA SEGURADORA S. A.', 41741668.83, 295606.14, 1218286.42, 0.0, 0.0, 0.0, 0.0, 4596.73, 0.0, 0.0, 0.0, 0.0, 0.0, 0.0, 577213.16, 0.0, 1218286.42, 0.0, 0.0, 0.0, 0.0, 4596.73, 0.0, 0.0, 0.0, 0.0, 0.0, 0.0, 168951.69, 408261.47, 0.0, 0.0, 42318881.99], ['ASPECIR PREVIDÊNCIA', 16356141.68, 2988592.68, 0.0, 0.0, 0.0, 0.0, 0.0, 0.0, 0.0, 0.0, 0.0, 0.0, 0.0, 0.0, 32633578.7, 25415882.59, 0.0, 0.0, 0.0, 0.0, 0.0, 0.0, 0.0, 0.0, 0.0, 0.0, 0.0, 0.0, 6019696.7, 1197999.41, 0.0, 0.0, 48989720.38], ['ASSURANT SEGURADORA S.A.', 590532859.79, 647558.34, 100196695.55, 16772323.62, 0.0, 0.0, 765648.2, 2422529.44, 0.0, 0.0, 2153941.76, 29523182.37, 29523182.37, 0.0, 241085694.31, 207734984.36, 100196695.55, 16772323.62, 0.0, 0.0, 765648.2, 2422529.44, 0.0, 0.0, 2153941.76, 29523182.37, 29523182.37, 0.0, 0.0, 3409644.27, 29941065.68, 0.0, 831618554.1], ['ATLÂNTICA COMPANHIA DE SEGUROS', 688716420.28, 7.33, 0.0, 0.0, 0.0, 0.0, 0.0, 443798.59, 0.0, 0.0, 0.0, 0.0, 0.0, 0.0, 603972891.19, 602917418.5, 0.0, 0.0, 0.0, 0.0, 0.0, 443798.59, 0.0, 0.0, 0.0, 0.0, 0.0, 0.0, 518678.15, 352362.37, 184432.17, 0.0, 1292689311.47], ['ATRADIUS CRÉDITO Y CAUCIÓN SEGURADORA S.A.', 150794085.05, 5755776.39, 15764925.3, 128526.94, 0.0, 0.0, 0.0, 27375.36, 0.0, 0.0, 0.0, 0.0, 0.0, 0.0, 2076400.88, 1695315.14, 15764925.3, 128526.94, 0.0, 0.0, 0.0, 27375.36, 0.0, 0.0, 0.0, 0.0, 0.0, 0.0, 0.0, 381085.74, 0.0, 0.0, 152870485.93], ['AUSTRAL RESSEGURADORA S.A.', 716962020.76, 25990598.83, 0.0, 0.0, 0.0, 0.0, 0.0, 0.0, 0.0, 0.0, 0.0, 0.0, 0.0, 0.0, 86345217.42, 85323575.09, 0.0, 0.0, 0.0, 0.0, 0.0, 0.0, 0.0, 0.0, 0.0, 0.0, 0.0, 0.0, 0.0, 377952.28, 643690.05, 0.0, 803307238.18], ['AUSTRAL SEGURADORA S.A.', 504725754.16, 24370467.23, 1989589.57, 0.0, 0.0, 0.0, 0.0, 26494.62, 0.0, 0.0, 880.85, 0.0, 0.0, 0.0, 160547392.32, 154810515.94, 1989589.57, 0.0, 0.0, 0.0, 0.0, 26494.62, 0.0, 0.0, 880.85, 0.0, 0.0, 0.0, 0.0, 3556520.89, 2180355.49, 0.0, 665273146.48], ['AUXILIADORA PREVIDÊNCIA', 1011867.22, 280037.52, 5893988.2, 0.0, 0.0, 0.0, 0.0, 0.0, 0.0, 0.0, 0.0, 0.0, 0.0, 0.0, 1671766.9, 1623638.29, 5893988.2, 0.0, 0.0, 0.0, 0.0, 0.0, 0.0, 0.0, 0.0, 0.0, 0.0, 0.0, 0.0, 48128.61, 0.0, 0.0, 2683634.12], ['AXA CORPORATE SOLUTIONS SEGUROS S.A.', 642284633.96, 2046913.41, 62042718.31, 0.0, 3218402.43, 0.0, 0.0, 1413127.86, 26280.11, 0.0, 145381.94, 0.0, 0.0, 0.0, 188926559.05, 188736732.54, 62042718.31, 0.0, 3218402.43, 0.0, 0.0, 1413127.86, 26280.11, 0.0, 145381.94, 0.0, 0.0, 0.0, 0.0, 124605.82, 65220.69, 0.0, 831211193.01], ['AXA SEGUROS S.A.', 151927702.34, 1245767.2, 138378276.89, 0.0, 0.0, 0.0, 0.0, 138505266.37, 0.0, 0.0, 0.0, 0.0, 0.0, 0.0, 104558468, 94688714.69, 138378276.89, 0.0, 0.0, 0.0, 0.0, 138505266.37, 0.0, 0.0, 0.0, 0.0, 0.0, 0.0, 0.0, 6351285.32, 3518467.99, 0.0, 256486170.34], ['AXA XL RESSEGUROS S.A.', 111140543.07, 2955415.58, 62409314.07, 0.0, 0.0, 0.0, 0.0, 36143006.3, 110875.29, 0.0, 20765.14, 0.0, 0.0, 0.0, 215609808.94, 92372322.61, 62409314.07, 0.0, 0.0, 0.0, 0.0, 36143006.3, 110875.29, 0.0, 20765.14, 0.0, 0.0, 0.0, 120080894.38, 2484354.55, 672237.4, 0.0, 326750352.01], ['AZUL COMPANHIA DE SEGUROS GERAIS', 1932508102.12, 158442959.51, 0.0, 0.0, 0.0, 0.0, 0.0, 10792146.91, 0.0, 0.0, 0.0, 0.0, 0.0, 0.0, 678542258.15, 361296693.84, 0.0, 0.0, 0.0, 0.0, 0.0, 10792146.91, 0.0, 0.0, 0.0, 0.0, 0.0, 0.0, 9005274.89, 306644839.83, 1595449.59, 0.0, 2611050360.27], ['BAMÉRCIO S.A. PREVIDÊNCIA PRIVADA', 12610099.08, 96408.53, 34906.18, 0.0, 0.0, 0.0, 0.0, 185953.0, 0.0, 0.0, 0.0, 0.0, 0.0, 0.0, 4555118.23, 4553938.23, 34906.18, 0.0, 0.0, 0.0, 0.0, 185953.0, 0.0, 0.0, 0.0, 0.0, 0.0, 0.0, 0.0, 0.0, 1180.0, 0.0, 17165217.31], ['BANESTES SEGUROS S.A.', 152222454.36, 1625088.38, 239434.12, 0.0, 0.0, 0.0, 0.0, 0.0, 0.0, 0.0, 0.0, 0.0, 0.0, 0.0, 163643116.71, 161745323.96, 239434.12, 0.0, 0.0, 0.0, 0.0, 0.0, 0.0, 0.0, 0.0, 0.0, 0.0, 0.0, 759521.84, 1051201.99, 87068.92, 0.0, 315865571.07], ['BCS SEGUROS S.A.', 41417471.44, 11486.94, 30815.43, 0.0, 0.0, 0.0, 0.0, 0.0, 0.0, 0.0, 0.0, 0.0, 0.0, 0.0, 75963.06, 0.0, 30815.43, 0.0, 0.0, 0.0, 0.0, 0.0, 0.0, 0.0, 0.0, 0.0, 0.0, 0.0, 75963.06, 0.0, 0.0, 0.0, 41493434.5], ['Berkley International do Brasil Seguros S/A', 290069684.93, 8720100.0, 0.0, 0.0, 0.0, 0.0, 0.0, 0.0, 0.0, 0.0, 0.0, 0.0, 0.0, 0.0, 35324695.41, 25176996.42, 0.0, 0.0, 0.0, 0.0, 0.0, 0.0, 0.0, 0.0, 0.0, 0.0, 0.0, 0.0, 0.0, 3076736.02, 7070962.97, 0.0, 325394380.34], ['BMC PREVIDÊNCIA PRIVADA S.A.', 0.0, 0.0, 58565054.52, 60217349.91, 0.0, 0.0, 41944648.4, 5472278.04, 53078.36, 0.0, 138034.44, 10140199.63, 10140199.63, 0.0, 0.0, 0.0, 58565054.52, 60217349.91, 0.0, 0.0, 41944648.4, 5472278.04, 53078.36, 0.0, 138034.44, 10140199.63, 10140199.63, 0.0, 0.0, 0.0, 0.0, 0.0, 0.0], ['BMG SEGUROS S.A.', 20035488.79, 59435.05, 105265911.04, 24141.21, 0.0, 0.0, 3993900.24, -13122.97, 0.0, 0.0, 0.0, 1859641.67, 1859641.67, 0.0, 2245840.39, 2245840.39, 105265911.04, 24141.21, 0.0, 0.0, 3993900.24, -13122.97, 0.0, 0.0, 0.0, 1859641.67, 1859641.67, 0.0, 0.0, 0.0, 0.0, 0.0, 22281329.18], ['BRADESCO AUTO/RE COMPANHIA DE SEGUROS', 5148172800.71, 56914423.9, 40211131.17, 925405.76, 0.0, 0.0, 0.0, 309525.76, 0.0, 0.0, 0.0, 0.0, 0.0, 0.0, 3140432762.05, 2893934500.56, 40211131.17, 925405.76, 0.0, 0.0, 0.0, 309525.76, 0.0, 0.0, 0.0, 0.0, 0.0, 0.0, 964012.17, 15589591.34, 229944657.98, 0.0, 8288605562.76], ['BRADESCO CAPITALIZAÇÃO S.A.', 3653932368.65, 33180.86, 0.0, 0.0, 0.0, 3478370.66, 0.0, 0.0, 0.0, 0.0, 0.0, 0.0, 0.0, 0.0, 4066488667.3500004, 4035629852.5400004, 0.0, 0.0, 0.0, 0.0, 0.0, 0.0, 0.0, 0.0, 0.0, 0.0, 0.0, 0.0, 0.0, 1568116.6399999997, 29290698.17, 0.0, 7720421036.000001], ['BRADESCO SEGUROS S.A', 6185331601.169999, 35754947.04, 4129524.88, 0.0, 466324.67, 0.0, 0.0, 8746815.91, 0.0, 0.0, 24883.54, 0.0, 0.0, 0.0, 13069103636.960003, 684690955.3000001, 4129524.88, 0.0, 466324.67, 0.0, 0.0, 8746815.91, 0.0, 0.0, 24883.54, 0.0, 0.0, 0.0, 11913768717.740004, 160740459.12999997, 309903504.79, 0.0, 19254435238.130005], ['BRADESCO VIDA E PREVIDÊNCIA S.A.', 131785617462.69, 115205505.67, 3897279.33, 0.0, 0.0, 0.0, 0.0, 21518603.26, 0.0, 0.0, 0.0, 0.0, 0.0, 0.0, 34294454409.74, 34087006426.14, 3897279.33, 0.0, 0.0, 0.0, 0.0, 21518603.26, 0.0, 0.0, 0.0, 0.0, 0.0, 0.0, 2639825.2, 12982802.15, 191825356.25, 0.0, 166080071872.43], ['BRASILCAP CAPITALIZAÇÃO S.A.', 10967321877.61, 719478.77, 190214731.44, 79479141.39, 0.0, 13579254.37, 0.0, 54454968.4, 1474023.37, 0.0, 1451926.36, 262810510.49, 145962515.47, 116847995.02, 2534418285.66, 2526721217.46, 190214731.44, 79479141.39, 0.0, 0.0, 0.0, 54454968.4, 1474023.37, 0.0, 1451926.36, 262810510.49, 145962515.47, 116847995.02, 1226341.86, 2812288.11, 3658438.23, 0.0, 13501740163.27], ['BRASILPREV SEGUROS E PREVIDÊNCIA S/A', 142988810436.44, 3737490.13, 106374282.29, 0.0, 0.0, 0.0, 0.0, 28215324.54, 0.0, 0.0, 0.0, 73145377.53, 73145377.53, 0.0, 11122670192.06, 10926606331.97, 106374282.29, 0.0, 0.0, 0.0, 0.0, 28215324.54, 0.0, 0.0, 0.0, 73145377.53, 73145377.53, 0.0, 0.0, 16117605.83, 179946254.26, 0.0, 154111480628.5], ['BRASILSEG COMPANHIA DE SEGUROS', 5477144160.03, 127693059.56, 425588123.87, 59449000.75, 0.0, 0.0, 0.0, 5659505.21, 0.0, 0.0, 4951252.46, 193068530.66, 193068530.66, 0.0, 6302613117.64, 6144859416.84, 425588123.87, 59449000.75, 0.0, 0.0, 0.0, 5659505.21, 0.0, 0.0, 4951252.46, 193068530.66, 193068530.66, 0.0, 6481068.09, 58181810.78, 93090821.93, 0.0, 11779757277.67], ['BRASILVEÍCULOS COMPANHIA DE SEGUROS', 1504086945.01, 11794626.98, 0.0, 0.0, 0.0, 0.0, 0.0, 11572310.84, 0.0, 0.0, 3007549.35, 588337558.31, 130215825.35, 458121732.96, 1516629418.8, 1457195074.97, 0.0, 0.0, 0.0, 0.0, 0.0, 11572310.84, 0.0, 0.0, 3007549.35, 588337558.31, 130215825.35, 458121732.96, 1605199.4300000002, 4459862.45, 53369281.95, 0.0, 3020716363.81], ['BTG Pactual Resseguradora S.A.', 942235193.72, 45568.65, 43553140.41, 17989391.37, 0.0, 0.0, 81135981.53, 275345.77, 0.0, 0.0, 64157.34, 2020292.24, 2020292.24, 0.0, 1094.87, 1094.87, 43553140.41, 17989391.37, 0.0, 0.0, 81135981.53, 275345.77, 0.0, 0.0, 64157.34, 2020292.24, 2020292.24, 0.0, 0.0, 0.0, 0.0, 0.0, 942236288.59], ['BTG Pactual Vida e Previdência S.A.', 208188819.49, 38675.94, 0.0, 0.0, 0.0, 0.0, 1401734.77, 0.0, 0.0, 29400.0, 0.0, 264180.37, 264180.37, 0.0, 498336.07, 0.0, 0.0, 0.0, 0.0, 0.0, 1401734.77, 0.0, 0.0, 29400.0, 0.0, 264180.37, 264180.37, 0.0, 249536.9, 137630.45, 111168.72, 0.0, 208687155.56], ['CAIXA CAPITALIZAÇÃO S/A', 1336686220.78, 1444118.95, 278005812.13, 252194719.11, 0.0, 0.0, 143688720.96, 11866278.42, 0.0, 0.0, 179444.93, 5036446.38, 5036446.38, 0.0, 1877091030.61, 1876543456.6, 278005812.13, 252194719.11, 0.0, 0.0, 143688720.96, 11866278.42, 0.0, 0.0, 179444.93, 5036446.38, 5036446.38, 0.0, 4049.0, 397516.26, 146008.75, 0.0, 3213777251.39], ['CAIXA SEGURADORA S.A.', 5481051540.01, 13240350.2, 48793208.23, 0.0, 0.0, 0.0, 33277106.61, 2634256.19, 0.0, 0.0, 0.0, 619004.06, 619004.06, 0.0, 4845884636.93, 4437542717.42, 48793208.23, 0.0, 0.0, 0.0, 33277106.61, 2634256.19, 0.0, 0.0, 0.0, 619004.06, 619004.06, 0.0, 30300956.14, 230684675.57, 147356287.8, 0.0, 10326936176.94], ['CAIXA VIDA E PREVIDÊNCIA S.A.', 31557465634.36, 29984864.66, 149611366.09, 99379271.05, 0.0, 0.0, 214834420.03, 1444903.49, 0.0, 0.0, 69017.22, 15016309.05, 15016309.05, 0.0, 286776845.31, 264442318.05, 149611366.09, 99379271.05, 0.0, 0.0, 214834420.03, 1444903.49, 0.0, 0.0, 69017.22, 15016309.05, 15016309.05, 0.0, 7.12, 126973.58, 22207546.56, 0.0, 31844242479.67], ['CAPEMISA CAPITALIZAÇÃO S.A.', 15090222.09, 357364.51, 16683250.53, 33183902.26, 0.0, 264891.96, 82481992.62, 1507378.72, 0.0, 0.0, 0.0, 20953991.81, 20953991.81, 0.0, 1796672.31, 1796672.31, 16683250.53, 33183902.26, 0.0, 0.0, 82481992.62, 1507378.72, 0.0, 0.0, 0.0, 20953991.81, 20953991.81, 0.0, 0.0, 0.0, 0.0, 0.0, 16886894.4], ['CAPEMISA SEGURADORA DE VIDA E PREVIDÊNCIA S/A', 724091224.91, 14239439.469999999, 4299.13, 0.0, 529451.86, 0.0, 0.0, 136377.01, 0.0, 39000.0, 22701.7, 0.0, 0.0, 0.0, 664373023.98, 581397339.15, 4299.13, 0.0, 529451.86, 0.0, 0.0, 136377.01, 0.0, 39000.0, 22701.7, 0.0, 0.0, 0.0, 34073498.64, 43197904.61, 5704281.58, 0.0, 1388464248.8899999], ['CARDIF DO BRASIL SEGUROS E GARANTIAS S.A.', 579451105.82, 3827274.23, 1623638.29, 0.0, 0.0, 0.0, 0.0, 0.0, 0.0, 0.0, 0.0, 0.0, 0.0, 0.0, 253932190.67, 155955696.71, 1623638.29, 0.0, 0.0, 0.0, 0.0, 0.0, 0.0, 0.0, 0.0, 0.0, 0.0, 0.0, 0.0, 479490.74, 97497003.22, 0.0, 833383296.49], ['CARDIF DO BRASIL VIDA E PREVIDÊNCIA S/A', 922714913.45, 4220826.16, 249533970.19, 136108687.7, 0.0, 0.0, 217060155.85, 27875046.13, 211247.66, 0.0, 0.0, 9448613.02, 9448613.02, 0.0, 637929216.02, 496243439.43, 249533970.19, 136108687.7, 0.0, 0.0, 217060155.85, 27875046.13, 211247.66, 0.0, 0.0, 9448613.02, 9448613.02, 0.0, 23068387.82, 1257868.01, 117359520.76, 0.0, 1560644129.47], ['CENTAURO VIDA E PREVIDÊNCIA S.A.', 64330774.54, 368443.4, 0.0, 996550.68, 0.0, 0.0, 138729668.22, 47697718.83, 0.0, 0.0, 0.0, 1312794.81, 1312794.81, 0.0, 23262237.09, 20155735.3, 0.0, 996550.68, 0.0, 0.0, 138729668.22, 47697718.83, 0.0, 0.0, 0.0, 1312794.81, 1312794.81, 0.0, 377530.93, 2660770.07, 68200.79, 0.0, 87593011.63], ['CESCEBRASIL SEGUROS DE GARANTIAS E CRÉDITO S.A.', 150138425.58, 6033744.92, 47110605.88, 48605267.39, 0.0, 0.0, 45354561.26, 1720080.61, 0.0, 412382.78, 109960.44, 7369076.78, 7369076.78, 0.0, 4826286.83, 2218917.26, 47110605.88, 48605267.39, 0.0, 0.0, 45354561.26, 1720080.61, 0.0, 412382.78, 109960.44, 7369076.78, 7369076.78, 0.0, 1209336.86, 1085468.92, 312563.79, 0.0, 154964712.41], ['Chubb do Brasil Cia de Seguros', 837782410.18, 9068967.94, 54055091.74, 0.0, 0.0, 0.0, 1192191.52, 39046636.84, 0.0, 0.0, 0.0, 394794.59, 394794.59, 0.0, 447086399.27, 430893440.73, 54055091.74, 0.0, 0.0, 0.0, 1192191.52, 39046636.84, 0.0, 0.0, 0.0, 394794.59, 394794.59, 0.0, 0.0, 3243424.01, 12949534.53, 0.0, 1284868809.45], ['CHUBB RESSEGURADORA BRASIL S.A.', 537848222.49, 11380080.54, 1032560.52, 39583696.1, 0.0, 0.0, 46803607.97, 2941800.23, 0.0, 343996.42, 14790442.88, 2689023.37, 2689023.37, 0.0, 175350927.78, 175245685.59, 1032560.52, 39583696.1, 0.0, 0.0, 46803607.97, 2941800.23, 0.0, 343996.42, 14790442.88, 2689023.37, 2689023.37, 0.0, 0.0, 73954.58, 31287.61, 0.0, 713199150.27], ['CHUBB SEGUROS DO BRASIL S.A.', 8907366853.5, 86228396.8, 78037852.57, 1731773.3, 0.0, 0.0, 977636.99, 11379263.38, 0.0, 0.0, 0.0, 245796.37, 245796.37, 0.0, 1941341678.03, 840202003.9799999, 78037852.57, 1731773.3, 0.0, 0.0, 977636.99, 11379263.38, 0.0, 0.0, 0.0, 245796.37, 245796.37, 0.0, 0.0, 11508811.32, 1089630862.73, 0.0, 10848708531.53], ['CIA. ITAÚ DE CAPITALIZAÇÃO', 3813897523.16, 4547693.93, 924098936.39, 587190650.68, 0.0, 1309.5, 1647917.32, 1651627.87, 31749103.84, 0.0, 4430219.8, 223296686.71, 223296686.71, 0.0, 885468479.24, 38596087.470000006, 924098936.39, 587190650.68, 0.0, 0.0, 1647917.32, 1651627.87, 31749103.84, 0.0, 4430219.8, 223296686.71, 223296686.71, 0.0, 31001160.840000004, 0.0, 815871230.93, 0.0, 4699366002.4], ['Coface do Brasil Seguros de Crédito S/A', 206418965.87, 229439.59, 208237353.76, 2541497.0, 0.0, 0.0, 0.0, 140453217.88, 8686778.34, 0.0, 1377846.86, 0.0, 0.0, 0.0, 74727668.91, 73939612.59, 208237353.76, 2541497.0, 0.0, 0.0, 0.0, 140453217.88, 8686778.34, 0.0, 1377846.86, 0.0, 0.0, 0.0, 22309.0, 485854.47, 279892.85, 0.0, 281146634.78], ['COMPANHIA CAPITAL DE SEGUROS - MICROSSEGURADORA', 5639048.32, 0.0, 12396487.52, 0.0, 0.0, 0.0, 0.0, 94772.29, 0.0, 0.0, 22430.74, 0.0, 0.0, 0.0, 1469432.15, 1339408.21, 12396487.52, 0.0, 0.0, 0.0, 0.0, 94772.29, 0.0, 0.0, 22430.74, 0.0, 0.0, 0.0, 0.0, 130023.94, 0.0, 0.0, 7108480.47], ['COMPANHIA DE SEGUROS ALIANÇA DA BAHIA', 184398896.09, 1408993.86, 4471736.07, 0.0, 0.0, 0.0, 0.0, 82202.16, 0.0, 0.0, 0.0, 0.0, 0.0, 0.0, 301561278.22, 157668937.04, 4471736.07, 0.0, 0.0, 0.0, 0.0, 82202.16, 0.0, 0.0, 0.0, 0.0, 0.0, 0.0, 138725878.4, 5136765.45, 29697.33, 0.0, 485960174.31], ['COMPANHIA DE SEGUROS DO ESTADO DE SÃO PAULO - COSESP', 292285857.82, 11963264.35, 117425953.21, 19775640.71, 0.0, 0.0, 0.0, 5674106.03, 1553971.51, 0.0, 139971.07, 6027723.45, 6027723.45, 0.0, 81866612.48, 76254496.38, 117425953.21, 19775640.71, 0.0, 0.0, 0.0, 5674106.03, 1553971.51, 0.0, 139971.07, 6027723.45, 6027723.45, 0.0, 4149976.69, 1447082.05, 0.0, 15057.36, 374152470.3], ['COMPANHIA DE SEGUROS PREVIDÊNCIA DO SUL - PREVISUL', 198965142.9, 10582130.74, 138939589.77, 0.0, 0.0, 0.0, 0.0, 22805734.19, 0.0, 0.0, 0.0, 0.0, 0.0, 0.0, 35094995.91, 32888476.92, 138939589.77, 0.0, 0.0, 0.0, 0.0, 22805734.19, 0.0, 0.0, 0.0, 0.0, 0.0, 0.0, 908043.08, 1227444.3, 71031.61, 0.0, 234060138.81], ['Companhia Excelsior de Seguros', 300032300.34, 10899691.77, 113497.16, 1535584.93, 0.0, 0.0, 0.0, 39756902.41, 0.0, 0.0, 0.0, 0.0, 0.0, 0.0, 4321141.16, 892193.98, 113497.16, 1535584.93, 0.0, 0.0, 0.0, 39756902.41, 0.0, 0.0, 0.0, 0.0, 0.0, 0.0, 1354312.79, 2001075.48, 73558.91, 0.0, 304353441.5], ['COMPREV SEGURADORA S.A.', 71610949.23, 650355.62, 0.0, 0.0, 0.0, 0.0, 0.0, 0.0, 0.0, 0.0, 0.0, 0.0, 0.0, 0.0, 843578.83, 124.97, 0.0, 0.0, 0.0, 0.0, 0.0, 0.0, 0.0, 0.0, 0.0, 0.0, 0.0, 0.0, 214800.95, 560837.68, 67815.23, 0.0, 72454528.06], ['COMPREV VIDA E PREVIDÊNCIA S.A.', 125600412.39, 370933.27, 131887385.01, 76344270.77, 0.0, 0.0, 34438893.82, 10880568.85, -13296.37, 0.0, 690205.35, 27121557.5, 23118273.58, 4003283.92, 83832785.93, 82420242.9, 131887385.01, 76344270.77, 0.0, 0.0, 34438893.82, 10880568.85, -13296.37, 0.0, 690205.35, 27121557.5, 23118273.58, 4003283.92, 342628.46, 986951.55, 82963.02, 0.0, 209433198.32], ['DAYPREV VIDA E PREVIDÊNCIA S.A.', 59495266.87, 642760.65, 0.0, 508060.66, 0.0, 0.0, 13853512.98, 2329839.14, 0.0, 0.0, 0.0, 8485583.64, 8485583.64, 0.0, 13058059.93, 12683307.33, 0.0, 508060.66, 0.0, 0.0, 13853512.98, 2329839.14, 0.0, 0.0, 0.0, 8485583.64, 8485583.64, 0.0, 177814.48, 129274.01, 67664.11, 0.0, 72553326.8], ['EQUATORIAL PREVIDÊNCIA COMPLEMENTAR', 12512112.95, 48699.43, 0.0, 0.0, 0.0, 0.0, 0.0, 0.0, 0.0, 0.0, 0.0, 0.0, 0.0, 0.0, 26574680.21, 23453002.52, 0.0, 0.0, 0.0, 0.0, 0.0, 0.0, 0.0, 0.0, 0.0, 0.0, 0.0, 0.0, 1901203.54, 1220474.15, 0.0, 0.0, 39086793.16], ['EQUATORIAL SEGURADORA S/A - MICROSSEGUROS', 1512191.7, 3345.93, 0.0, 0.0, 0.0, 0.0, 0.0, 0.0, 0.0, 0.0, 0.0, 0.0, 0.0, 0.0, 1230.27, 0.0, 0.0, 0.0, 0.0, 0.0, 0.0, 0.0, 0.0, 0.0, 0.0, 0.0, 0.0, 0.0, 1230.27, 0.0, 0.0, 0.0, 1513421.97], ['Essor Seguros S.A', 573953363.77, 2747582.82, 19353804.5, 0.0, 0.0, 0.0, 0.0, 534998.55, 87250.69, 0.0, 0.0, 0.0, 0.0, 0.0, 96376723.47, 95342627.26, 19353804.5, 0.0, 0.0, 0.0, 0.0, 534998.55, 87250.69, 0.0, 0.0, 0.0, 0.0, 0.0, 0.0, 902918.84, 131177.37, 0.0, 670330087.24], ['EULER HERMES SEGUROS S.A.', 128576873.67, 5593287.38, 2245840.39, 0.0, 0.0, 0.0, 0.0, 0.0, 0.0, 0.0, 0.0, 0.0, 0.0, 0.0, 29500784.19, 29005030.73, 2245840.39, 0.0, 0.0, 0.0, 0.0, 0.0, 0.0, 0.0, 0.0, 0.0, 0.0, 0.0, 0.0, 280430.14, 215323.32, 0.0, 158077657.86], ['Evidence Previdência', 1537106882.97, 1502282.92, 2195438064.66, 1447856700.03, 0.0, 0.0, 821849339.45, 60473341.8, 74139058.35, 0.0, 90320476.63, 401181395.89, 401181395.89, 0.0, 243096505.37, 243096505.37, 2195438064.66, 1447856700.03, 0.0, 0.0, 821849339.45, 60473341.8, 74139058.35, 0.0, 90320476.63, 401181395.89, 401181395.89, 0.0, 0.0, 0.0, 0.0, 0.0, 1780203388.34], ['FAIRFAX BRASIL SEGUROS CORPORATIVOS S.A.', 1024473946.64, 8970766.42, 2298655998.9, 487906.6, 0.0, 0.0, 134178973.43, 448083503.02, 0.0, 0.0, 662077.47, 11866041.14, 11866041.14, 0.0, 335028285.47, 332646400.75, 2298655998.9, 487906.6, 0.0, 0.0, 134178973.43, 448083503.02, 0.0, 0.0, 662077.47, 11866041.14, 11866041.14, 0.0, 0.0, 2151230.54, 230654.18, 0.0, 1359502232.11], ['FAMILIA BANDEIRANTE PREVIDÊNCIA PRIVADA', 42094.66, 18985.15, 3598559382.33, 0.0, 0.0, 0.0, 0.0, 51173455.73, 0.0, 0.0, 687979.07, 0.0, 0.0, 0.0, 65800510.07, 55454850.99, 3598559382.33, 0.0, 0.0, 0.0, 0.0, 51173455.73, 0.0, 0.0, 687979.07, 0.0, 0.0, 0.0, 8197070.72, 2076218.98, 72369.38, 0.0, 65842604.73], ['FATOR SEGURADORA S.A.', 594299842.61, 1510861.82, 3786837940.76, 0.0, 0.0, 0.0, 0.0, 248791911.78, 0.0, 0.0, 0.0, 0.0, 0.0, 0.0, 80571929.37, 79502266.74, 3786837940.76, 0.0, 0.0, 0.0, 0.0, 248791911.78, 0.0, 0.0, 0.0, 0.0, 0.0, 0.0, 233845.45, 743545.01, 92272.17, 0.0, 674871771.98], ['FUTURO - PREVIDÊNCIA PRIVADA', 4848618.67, 273442.29, 3793241806.5099998, 134969746.16, 0.0, 0.0, 120358806.64999999, 2100482281.27, 0.0, 0.0, 524013.54, 0.0, 0.0, 0.0, 4817055.36, 4698486.84, 3793241806.5099998, 134969746.16, 0.0, 0.0, 120358806.64999999, 2100482281.27, 0.0, 0.0, 524013.54, 0.0, 0.0, 0.0, 111389.45, 7179.07, 0.0, 0.0, 9665674.03], ['GBOEX - GREMIO BENEFICENTE', 37331242.04, 1764304.8, 2237320.57, 0.0, 0.0, 0.0, 1175165.17, 681278469.5600001, 0.0, 0.0, 0.0, 0.0, 0.0, 0.0, 45889652.12, 40142963.51, 2237320.57, 0.0, 0.0, 0.0, 1175165.17, 681278469.5600001, 0.0, 0.0, 0.0, 0.0, 0.0, 0.0, 4322241.72, 1424446.89, 0.0, 0.0, 83220894.16], ['GENERALI  BRASIL  SEGUROS S.A.', 1068518209.8, 41969302.36, 131237407873.68, 247322965.66, 0.0, 0.0, 15950426.27, 72806827.75, 0.0, 0.0, 3843409.72, 93080453.94, 0.0, 93080453.94, 76942555.42, 38437384.32, 131237407873.68, 247322965.66, 0.0, 0.0, 15950426.27, 72806827.75, 0.0, 0.0, 3843409.72, 93080453.94, 0.0, 93080453.94, 401026.86, 8434142.42, 29670001.82, 0.0, 1145460765.22], ['Gente Seguradora S.A.', 74258840.06, 4182.42, 32856185956.73, 2665748.62, 0.0, 0.0, 12718621.79, 1215436099, 0.0, 0.0, 0.0, 0.0, 0.0, 0.0, 12727055.33, 719952.56, 32856185956.73, 2665748.62, 0.0, 0.0, 12718621.79, 1215436099, 0.0, 0.0, 0.0, 0.0, 0.0, 0.0, 2827119.44, 9179983.33, 0.0, 0.0, 86985895.39], ['HDI GLOBAL SEGUROS S.A', 373193329.6, 12079734.88, 10947881231.29, 0.0, 0.0, 0.0, 0.0, 3099106.55, 0.0, 0.0, 2042806.63, 0.0, 0.0, 0.0, 71600899.48, 71208550.57, 10947881231.29, 0.0, 0.0, 0.0, 0.0, 3099106.55, 0.0, 0.0, 2042806.63, 0.0, 0.0, 0.0, 0.0, 392348.91, 0.0, 0.0, 444794229.08], ['HDI SEGUROS S.A.', 3293660204.53, 17468973.8, 1565120713.97, 0.0, 0.0, 0.0, 0.0, 961558529.05, 0.0, 0.0, 41974.44, 0.0, 0.0, 0.0, 655065670.86, 416460030.79, 1565120713.97, 0.0, 0.0, 0.0, 0.0, 961558529.05, 0.0, 0.0, 41974.44, 0.0, 0.0, 0.0, 0.0, 51110108.93, 187495531.14, 0.0, 3948725875.39], ['ICATU CAPITALIZAÇÃO S.A.', 1303337025.1, 3249878.81, 142585763859.15, 2387852.09, 561383.18, 19546850.87, 0.0, 26514233.16, 0.0, 0.0, 776512.82, 369069105.91, 352389419.06, 16679686.85, 839148778.31, 834313279.06, 142585763859.15, 2387852.09, 561383.18, 0.0, 0.0, 26514233.16, 0.0, 0.0, 776512.82, 369069105.91, 352389419.06, 16679686.85, 0.0, 426409.02, 4409090.23, 0.0, 2142485803.41], ['ICATU SEGUROS S.A', 10605903773.12, 15833541.9, 9850727042.9, 0.0, 0.0, 0.0, 0.0, 503935455.34, 0.0, 0.0, 0.0, 571943833.73, 550856627.07, 21087206.66, 1614490105.31, 1135261673.51, 9850727042.9, 0.0, 0.0, 0.0, 0.0, 503935455.34, 0.0, 0.0, 0.0, 571943833.73, 550856627.07, 21087206.66, 329556046.15, 9133738.5, 140538647.15, 0.0, 12220393878.43], ['INDIANA SEGUROS S.A.', 199771521.63, 7828891.5, 1918760217.24, 1867663616.75, 0.0, 0.0, 570060942.2, 288239622.51, 83529.23, 0.0, 33582001.72, 671061170.82, 671061170.82, 0.0, 361598882.04, 359182965.99, 1918760217.24, 1867663616.75, 0.0, 0.0, 570060942.2, 288239622.51, 83529.23, 0.0, 33582001.72, 671061170.82, 671061170.82, 0.0, 271185.97, 2091079.73, 53650.35, 0.0, 561370403.67], ['INVEST CAPITALIZAÇÃO S.A.', 36436461.41, 6012817.98, 2852508712.62, 1285140307.78, 0.0, 5539260.65, 34668335.56, 1034907050.94, 0.0, 0.0, 0.0, 937635009.94, 937635009.94, 0.0, 16686430.03, 16672091.13, 2852508712.62, 1285140307.78, 0.0, 0.0, 34668335.56, 1034907050.94, 0.0, 0.0, 0.0, 937635009.94, 937635009.94, 0.0, 0.0, 14338.9, 0.0, 0.0, 53122891.44], ['INVESTPREV SEGURADORA S.A.', 64458389.28, 4798.25, 414896696.81, 780244149.75, 0.0, 0.0, 0.0, 49711561.81, 129749457.8, 0.0, 1664338.5899999999, 116026113.27, 116026113.27, 0.0, 36303780.43, 21566016.78, 414896696.81, 780244149.75, 0.0, 0.0, 0.0, 49711561.81, 129749457.8, 0.0, 1664338.5899999999, 116026113.27, 116026113.27, 0.0, 13678879.31, 716694.27, 342190.07, 0.0, 100762169.71], ['INVESTPREV SEGUROS E PREVIDÊNCIA S.A.', 66597482.7, 3944480.92, 784348141.74, 178.85, 0.0, 0.0, 0.0, 655011537.19, 0.0, 0.0, 0.0, 17835217.19, 17835217.19, 0.0, 34351559.38, 32446459.47, 784348141.74, 178.85, 0.0, 0.0, 0.0, 655011537.19, 0.0, 0.0, 0.0, 17835217.19, 17835217.19, 0.0, 501986.33, 1326196.47, 76917.11, 0.0, 100949042.08], ['IRB BRASIL RESSEGUROS S/A', 8036797321.43, 58700480.27, 455520718.16, 251423973.25, 0.0, 0.0, 233896432.26, 1348501.42, 0.0, 0.0, -0.02, 0.0, 0.0, 0.0, 6593566617.71, 6320921347.42, 455520718.16, 251423973.25, 0.0, 0.0, 233896432.26, 1348501.42, 0.0, 0.0, -0.02, 0.0, 0.0, 0.0, 174434379.2, 35438608.12, 62772282.97, 0.0, 14630363939.14], ['ITAU SEGUROS DE AUTO E RESIDÊNCIA S.A.', 2394174057.4, 126595772.23, 0.0, 0.0, 0.0, 0.0, 0.0, 1094.87, 0.0, 0.0, 0.0, 0.0, 0.0, 0.0, 293251425.82000005, 290240956.96000004, 0.0, 0.0, 0.0, 0.0, 0.0, 1094.87, 0.0, 0.0, 0.0, 0.0, 0.0, 0.0, 0.0, 2989715.25, 20753.61, 0.0, 2687425483.2200003], ['ITAU SEGUROS S.A.', 6475647215.780002, 11027332.26, 207634930.69, 514450.7, 0.0, 0.0, 0.0, 762.11, 0.0, 0.0, 0.05, 0.0, 0.0, 0.0, 6155580296.05, 897868781.05, 207634930.69, 514450.7, 0.0, 0.0, 0.0, 762.11, 0.0, 0.0, 0.05, 0.0, 0.0, 0.0, 3287758923.66, 36326164.35000001, 1933626426.99, 0.0, 12631227511.830002], ['ITAÚ VIDA E PREVIDÊNCIA S/A', 123297158961.78001, 31895324.44, 0.0, 0.0, 0.0, 0.0, 0.0, 0.0, 0.0, 0.0, 0.0, 0.0, 0.0, 0.0, 7341802384.509999, 5028852071.0199995, 0.0, 0.0, 0.0, 0.0, 0.0, 0.0, 0.0, 0.0, 0.0, 0.0, 0.0, 0.0, 2053601835.5800002, 1406925.74, 257941552.17, 0.0, 130638961346.29002], ['ITAUSEG SEGURADORA S.A.', 175632351.22, 845966.66, 1210375852.17, 0.0, 0.0, 0.0, 0.0, 123393884.45, 255069.11, 0.0, 1217296.1, 0.0, 0.0, 0.0, 16491443.47, 14063557.83, 1210375852.17, 0.0, 0.0, 0.0, 0.0, 123393884.45, 255069.11, 0.0, 1217296.1, 0.0, 0.0, 0.0, 0.0, 2302705.99, 125179.65, 0.0, 192123794.69], ['JUNTO RESSEGUROS S.A.', 490180037.55, 189891.77, 1546020527.22, 0.0, 0.0, 0.0, 0.0, 330522929.38, 0.0, 0.0, 0.0, 0.0, 0.0, 0.0, 839376456.51, 839075960.49, 1546020527.22, 0.0, 0.0, 0.0, 0.0, 330522929.38, 0.0, 0.0, 0.0, 0.0, 0.0, 0.0, 6742.64, 251829.98, 41923.4, 0.0, 1329556494.06], ['JUNTO SEGUROS S.A.', 720018121.83, 1576483.65, 3218670863.24, 1121567212.81, 0.0, 0.0, 100324093.98, 828502020.55, 7461662.38, 0.0, 3811145.02, 187474191.83, 95054733.85, 92419457.98, 652067865.21, 607202670.23, 3218670863.24, 1121567212.81, 0.0, 0.0, 100324093.98, 828502020.55, 7461662.38, 0.0, 3811145.02, 187474191.83, 95054733.85, 92419457.98, 1856907.07, 42077209.34, 931078.57, 0.0, 1372085987.04], ['KIRTON CAPITALIZAÇÃO S.A.', 1046998255.66, 2428836.28, 2524569673.87, 20042891.96, 0.0, 174967.09, 40368447.93, 1636809898.86, 35712.55, 0.0, 0.0, 215716092.25, 78399855.56, 137316236.69, 28474179.66, 17208261.43, 2524569673.87, 20042891.96, 0.0, 0.0, 40368447.93, 1636809898.86, 35712.55, 0.0, 0.0, 215716092.25, 78399855.56, 137316236.69, 11265918.23, 0.0, 0.0, 0.0, 1075472435.32], ['KIRTON SEGUROS S.A.', 1269967177.24, 12056443.34, 31236537417.91, 5392106.25, 0.0, 0.0, 0.0, 284755920.61, 95292.4, 0.0, 700032.53, 0.0, 0.0, 0.0, 452889178.09, 165561047.9, 31236537417.91, 5392106.25, 0.0, 0.0, 0.0, 284755920.61, 95292.4, 0.0, 700032.53, 0.0, 0.0, 0.0, 277137449.19, 8908.28, 10181772.72, 0.0, 1722856355.33], ['KIRTON VIDA  E PREVIDÊNCIA S.A.', 12274515089.93, 9189531.0, 39754422.38, 0.0, 0.0, 0.0, 0.0, 224687895.67, 0.0, 0.0, 0.0, 0.0, 0.0, 0.0, 888268589.11, 888265748.48, 39754422.38, 0.0, 0.0, 0.0, 0.0, 224687895.67, 0.0, 0.0, 0.0, 0.0, 0.0, 0.0, 0.0, 2840.63, 0.0, 0.0, 13162783679.04], ['KYOEI DO BRASIL COMPANHIA DE SEGUROS', 13359426.87, 222482.18, 14331017.02, 0.0, 0.0, 0.0, 0.0, 134914.6, 0.0, 0.0, 2034.0, 0.0, 0.0, 0.0, 11560907.55, 11523652.13, 14331017.02, 0.0, 0.0, 0.0, 0.0, 134914.6, 0.0, 0.0, 2034.0, 0.0, 0.0, 0.0, 0.0, 37255.42, 0.0, 0.0, 24920334.42], ['LIBERTY SEGUROS S.A.', 2117398746.46, 65160761.6, 1796672.31, 0.0, 0.0, 0.0, 0.0, 0.0, 0.0, 0.0, 0.0, 0.0, 0.0, 0.0, 1004723695.47, 950891160.47, 1796672.31, 0.0, 0.0, 0.0, 0.0, 0.0, 0.0, 0.0, 0.0, 0.0, 0.0, 0.0, 0.0, 25187306.95, 28645228.05, 0.0, 3122122441.93], ['LIDERANÇA CAPITALIZAÇÃO S.A.', 651049053.83, 164736.78, 636958057.7300001, 11025024.39, 3856695.39, 43168967.68, 123923.8, 34663530.48999998, 20053032.64, 1458396.67, 1524262.41, 188861.92, 188861.92, 0.0, 279637590.2, 199653906.44, 636958057.7300001, 11025024.39, 3856695.39, 0.0, 123923.8, 34663530.48999998, 20053032.64, 1458396.67, 1524262.41, 188861.92, 188861.92, 0.0, 71736635.99, 7615199.87, 624328.8, 0.0, 930686644.03], ['LUIZASEG SEGUROS S.A.', 426065694.72, 182857.67, 350045261.96999997, 0.0, 0.0, 0.0, 0.0, 229547745.32999998, 0.0, 304881.13, 1499450.72, 0.0, 0.0, 0.0, 425533872.63, 316382748.54999995, 350045261.96999997, 0.0, 0.0, 0.0, 0.0, 229547745.32999998, 0.0, 304881.13, 1499450.72, 0.0, 0.0, 0.0, 0.0, 3845.16, 109147278.92, 0.0, 851599567.35], ['LUTERPREV- ENTIDADE LUTERANA DE PREVIDÊNCIA', 83902205.55, 734840.12, 168100968.65, 239056273.22, 0.0, 0.0, 0.0, 14114638.75, 0.0, 0.0, 399617.6, 153952333.37, 153952333.37, 0.0, 38661963.7, 37855891.72, 168100968.65, 239056273.22, 0.0, 0.0, 0.0, 14114638.75, 0.0, 0.0, 399617.6, 153952333.37, 153952333.37, 0.0, 0.0, 806071.98, 0.0, 0.0, 122564169.25], ['MAPFRE Capitalização S.A.', 81488319.58, 26919.93, 91163581.67, 0.0, 0.0, 5653570.0, 0.0, 176483.32, 0.0, 0.0, 0.0, 64615631.72, 64615631.72, 0.0, 11754502.32, 11229333.61, 91163581.67, 0.0, 0.0, 0.0, 0.0, 176483.32, 0.0, 0.0, 0.0, 64615631.72, 64615631.72, 0.0, 0.0, 381009.48, 144159.23, 0.0, 93242821.9], ['MAPFRE PREVIDÊNCIA S.A.', 2842731488.62, 2266518.89, 497638632.3, 93934266.84, 0.0, 0.0, 0.0, 53436591.99, 0.0, 0.0, 842548.25, 272642047.91, 272642047.91, 0.0, 253176858.76, 251161588.85, 497638632.3, 93934266.84, 0.0, 0.0, 0.0, 53436591.99, 0.0, 0.0, 842548.25, 272642047.91, 272642047.91, 0.0, 202268.16, 567151.2, 1245850.55, 0.0, 3095908347.38], ['MAPFRE RE DO BRASIL COMPANHIA DE RESSEGUROS', 517129931.55, 21270861.64, 341729349.91, 0.0, 0.0, 0.0, 0.0, 0.0, 0.0, 0.0, 0.0, 154514089.52, 154514089.52, 0.0, 186871637.44, 182462566.79, 341729349.91, 0.0, 0.0, 0.0, 0.0, 0.0, 0.0, 0.0, 0.0, 154514089.52, 154514089.52, 0.0, 0.0, 4405324.83, 3745.82, 0.0, 704001568.99], ['MAPFRE SEGUROS GERAIS S.A.', 7568409625.17, 182739721.75, 55812219.66, 6927363.97, 0.0, 0.0, 186827.77, 640095.66, 39183.36, 0.0, 92527.71, 264113.01, 264113.01, 0.0, 2581066363.35, 2115221531.6, 55812219.66, 6927363.97, 0.0, 0.0, 186827.77, 640095.66, 39183.36, 0.0, 92527.71, 264113.01, 264113.01, 0.0, 11212760.23, 103710285.55, 350921785.97, 0.0, 10149475988.52], ['MAPFRE VIDA S.A.', 713818490.23, 19601624.3, 18532695.45, 0.0, 0.0, 0.0, 97477.67, 1302647.61, 0.0, 0.0, 0.0, 222914.57, 222914.57, 0.0, 542692286.83, 506235893.26, 18532695.45, 0.0, 0.0, 0.0, 97477.67, 1302647.61, 0.0, 0.0, 0.0, 222914.57, 222914.57, 0.0, 4223254.91, 6155992.77, 26077145.89, 0.0, 1256510777.06], ['MARKEL RESSEGURADORA DO BRASIL S.A.', 72233274.31, 8154443.5, 72336078.23, 21678415.1, 0.0, 0.0, 40357876.28, 8234762.7, 0.0, 0.0, 47421.58, 1450126.77, 1450126.77, 0.0, 101447168.57, 99930847.8, 72336078.23, 21678415.1, 0.0, 0.0, 40357876.28, 8234762.7, 0.0, 0.0, 47421.58, 1450126.77, 1450126.77, 0.0, 0.0, 1516320.77, 0.0, 0.0, 173680442.88], ['MBM Previdência Complementar', 52056788.19, 13054241.87, 0.0, 137048.76, 0.0, 0.0, 1583917.86, 119363.35, 0.0, 0.0, 0.0, 378587.29, 378587.29, 0.0, 37422438.56, 6228213.27, 0.0, 137048.76, 0.0, 0.0, 1583917.86, 119363.35, 0.0, 0.0, 0.0, 378587.29, 378587.29, 0.0, 27413983.68, 3777212.17, 3029.44, 0.0, 89479226.75], ['MBM SEGURADORA S.A.', 77690995.57, 21810091.12, 419711979.69, 292228789.14, 0.0, 12570.97, 51682985.59, 6099794.68, 17163199.85, 0.0, 6483743.06, 35342950.23, 35121098.43, 221851.8, 9363293.89, 5312240.28, 419711979.69, 292228789.14, 0.0, 0.0, 51682985.59, 6099794.68, 17163199.85, 0.0, 6483743.06, 35342950.23, 35121098.43, 221851.8, 2982688.53, 997879.05, 70486.03, 0.0, 87054289.46], ['METROPOLITAN LIFE SEGUROS E PREVIDÊNCIA PRIVADA S.A.', 1959325596.34, 981853.98, 311086720.39, 13518859.04, 0.0, 0.0, 30312605.79, 66740149.99, 1827670.65, 0.0, 0.0, 7407434.87, 7407434.87, 0.0, 1001505107.5, 948736932.16, 311086720.39, 13518859.04, 0.0, 0.0, 30312605.79, 66740149.99, 1827670.65, 0.0, 0.0, 7407434.87, 7407434.87, 0.0, 0.0, 4252865.31, 48515310.03, 0.0, 2960830703.84], ['MITSUI SUMITOMO SEGUROS S.A.', 526425783.84, 7723303.05, 16022678.87, 265139482.85, 0.0, 0.0, 210097281.18, 19104248.72, 0.0, 0.0, 1527089.02, 14577361.31, 14577361.31, 0.0, 510675375.33, 479499481.41, 16022678.87, 265139482.85, 0.0, 0.0, 210097281.18, 19104248.72, 0.0, 0.0, 1527089.02, 14577361.31, 14577361.31, 0.0, 0.0, 13270032.52, 17905861.4, 0.0, 1037101159.17], ['MONGERAL AEGON SEGUROS E PREVIDÊNCIA S. A.', 629474892.32, 3502906.55, 157555651.96, 0.0, 0.0, 0.0, 11615737.35, 0.0, 0.0, 0.0, 0.0, 6074296.28, 6074296.28, 0.0, 578199191.53, 424626235.02, 157555651.96, 0.0, 0.0, 0.0, 11615737.35, 0.0, 0.0, 0.0, 0.0, 6074296.28, 6074296.28, 0.0, 17212714.01, 46661951.99, 89698290.51, 0.0, 1207674083.85], ['MUNICH RE DO BRASIL RESSEGURADORA S.A.', 1811937191.69, 61760736.85, 1781848967.8500001, 1785282229.0999997, 0.0, 0.0, 4944575513.910001, 195762089.33, 0.0, 0.0, 1468848.27, 112200808.23999996, 101656440.80999996, 10544367.430000007, 42207548.9, 35727241.22, 1781848967.8500001, 1785282229.0999997, 0.0, 0.0, 4944575513.910001, 195762089.33, 0.0, 0.0, 1468848.27, 112200808.23999996, 101656440.80999996, 10544367.430000007, 0.0, 6480307.68, 0.0, 0.0, 1854144740.59], ['NOBRE SEGURADORA DO BRASIL S.A.', 556331025.06, 4391284.85, 307887388.07, 44512889.849999994, 0.0, 0.0, 370796434.63, 85031235.5, 0.0, 0.0, 0.0, 31974055.929999992, 20621997.849999994, 11352058.08, 57697053.82, 21510546.54, 307887388.07, 44512889.849999994, 0.0, 0.0, 370796434.63, 85031235.5, 0.0, 0.0, 0.0, 31974055.929999992, 20621997.849999994, 11352058.08, 7536675.59, 26347328.98, 2302502.71, 0.0, 614028078.88], ['OMINT SEGUROS S.A.', 69389271.86, 60893.89, 3807354851.73, 0.0, 0.0, 0.0, 0.0, 1978321.63, 0.0, 0.0, 15346.37, 0.0, 0.0, 0.0, 195317.47, 195317.47, 3807354851.73, 0.0, 0.0, 0.0, 0.0, 1978321.63, 0.0, 0.0, 15346.37, 0.0, 0.0, 0.0, 0.0, 0.0, 0.0, 0.0, 69584589.33], ['PATER SEGUROS S.A.', 8381901.7, 8161.73, 0.0, 0.0, 0.0, 0.0, 0.0, 38596087.470000006, 0.0, 0.0, 0.0, 0.0, 0.0, 0.0, 157126.28, 157126.28, 0.0, 0.0, 0.0, 0.0, 0.0, 38596087.470000006, 0.0, 0.0, 0.0, 0.0, 0.0, 0.0, 0.0, 0.0, 0.0, 0.0, 8539027.98], ['PECÚLIO UNIÃO PREVIDÊNCIA PRIVADA', 1516707.67, 4153.39, 25965472.94, 75365683.17, 0.0, 0.0, 94310857.66, 6780636.56, 824.0, 0.0, 49519.39, 3716532.56, 3716532.56, 0.0, 123460.08, 123460.08, 25965472.94, 75365683.17, 0.0, 0.0, 94310857.66, 6780636.56, 824.0, 0.0, 49519.39, 3716532.56, 3716532.56, 0.0, 0.0, 0.0, 0.0, 0.0, 1640167.75], ['PORTO SEGURO CAPITALIZAÇÃO S.A.', 329308815.71999997, 93457724, 69143017.93, 0.0, 0.0, 0.0, 479307.71, 4317286.95, 0.0, 0.0, 0.0, 0.0, 0.0, 0.0, 256329.63, 256329.63, 69143017.93, 0.0, 0.0, 0.0, 479307.71, 4317286.95, 0.0, 0.0, 0.0, 0.0, 0.0, 0.0, 0.0, 0.0, 0.0, 0.0, 329565145.34999996], ['PORTO SEGURO COMPANHIA DE SEGUROS GERAIS', 4888581067.46, 167690576.05, 5525161.59, 0.0, 0.0, 0.0, 0.0, 92886.73, 0.0, 21000.0, 0.0, 0.0, 0.0, 0.0, 4048821542.75, 1900749412.38, 5525161.59, 0.0, 0.0, 0.0, 0.0, 92886.73, 0.0, 21000.0, 0.0, 0.0, 0.0, 0.0, 640952680.45, 1037687906.62, 469431543.3, 0.0, 8937402610.21], ['PORTO SEGURO VIDA E PREVIDÊNCIA S/A.', 3291433475.25, 186422674.07000002, 1339408.21, 0.0, 0.0, 0.0, 0.0, 0.0, 0.0, 0.0, 0.0, 0.0, 0.0, 0.0, 145125181.87, 130080088.67, 1339408.21, 0.0, 0.0, 0.0, 0.0, 0.0, 0.0, 0.0, 0.0, 0.0, 0.0, 0.0, 0.0, 15045093.2, 0.0, 0.0, 3436558657.12], ['POTTENCIAL SEGURADORA S.A.', 425131759.41, 3261063.25, 156337206.65, 3237347.99, 0.0, 0.0, 21414292.18, 1797149.77, 112914.44, 0.0, 90991.2, 0.0, 0.0, 0.0, 68414256.39, 66254805.42, 156337206.65, 3237347.99, 0.0, 0.0, 21414292.18, 1797149.77, 112914.44, 0.0, 90991.2, 0.0, 0.0, 0.0, 0.0, 1174849.28, 984601.69, 0.0, 493546015.8], ['PQ SEGUROS S.A.', 62940257.81, 13041713.32, 2568922.88, 100765.41, 0.0, 0.0, 82436502.11, 72562746.64, 0.0, 0.0, 0.0, 0.0, 0.0, 0.0, 2616539.69, 2176900.06, 2568922.88, 100765.41, 0.0, 0.0, 82436502.11, 72562746.64, 0.0, 0.0, 0.0, 0.0, 0.0, 0.0, 173805.99, 265833.64, 0.0, 0.0, 65556797.5], ['PREVICORP Previdência Privada', 495022.06, 155667.26, 278785103.67, 868306.06, 0.0, 0.0, 111766.53, 277348.82, 130338.99, 0.0, 149729.4, 0.0, 0.0, 0.0, 916809.52, 916575.85, 278785103.67, 868306.06, 0.0, 0.0, 111766.53, 277348.82, 130338.99, 0.0, 149729.4, 0.0, 0.0, 0.0, 0.0, 233.67, 0.0, 0.0, 1411831.58], ['PREVIMAX PREVIDÊNCIA PRIVADA E SEGURADORA S.A.', 67221738.79, 685007.07, 0.0, 0.0, 0.0, 0.0, 13192168.89, 63062327.49, 0.0, 0.0, 0.0, 0.0, 0.0, 0.0, 1773586.58, 1407500.14, 0.0, 0.0, 0.0, 0.0, 13192168.89, 63062327.49, 0.0, 0.0, 0.0, 0.0, 0.0, 0.0, 171222.13, 127912.72, 66951.59, 0.0, 68995325.37], ['PREVIMIL PREVIDÊNCIA COMPLEMENTAR S.A.', 28407638.04, 52638.1, 144779425.95, 16653235.35, 0.0, 0.0, 10231610.24, 12167914.06, 237798.41, 0.0, 792434.5, 3520593.65, 3520593.65, 0.0, 33731995.42, 29373929.52, 144779425.95, 16653235.35, 0.0, 0.0, 10231610.24, 12167914.06, 237798.41, 0.0, 792434.5, 3520593.65, 3520593.65, 0.0, 1.0, 4358064.9, 0.0, 0.0, 62139633.46], ['PRUDENTIAL DO BRASIL SEGUROS DE VIDA S.A', 787809826.44, 4076855.5, 13223712.15, 0.0, 0.0, 0.0, 0.0, 19664764.77, 0.0, 0.0, 0.0, 0.0, 0.0, 0.0, 1939132151.07, 1896088337.68, 13223712.15, 0.0, 0.0, 0.0, 0.0, 19664764.77, 0.0, 0.0, 0.0, 0.0, 0.0, 0.0, 0.0, 43043813.39, 0.0, 0.0, 2726941977.51], ['PRUDENTIAL DO BRASIL VIDA EM GRUPO S.A.', 15201555.65, 63012.82, 125840851.98, 63312113.91, 0.0, 0.0, 69990883.53, 21596946.62, 12000.0, 0.0, 0.0, 8379812.53, 8379812.53, 0.0, 0.0, 0.0, 125840851.98, 63312113.91, 0.0, 0.0, 69990883.53, 21596946.62, 12000.0, 0.0, 0.0, 8379812.53, 8379812.53, 0.0, 0.0, 0.0, 0.0, 0.0, 15201555.65], ['RECÍPROCA ASSISTÊNCIA', 28080506.14, 33793.75, 0.0, 0.0, 0.0, 0.0, 0.0, 730493.98, 161700.0, 0.0, 0.0, 0.0, 0.0, 0.0, 10100603.15, 4941172.29, 0.0, 0.0, 0.0, 0.0, 0.0, 730493.98, 161700.0, 0.0, 0.0, 0.0, 0.0, 0.0, 4433008.51, 726422.35, 0.0, 0.0, 38181109.29], ['RIO GRANDE SEGUROS E PREVIDÊNCIA S.A.', 148168840.47, 3996686.23, 70411893.16, 468006.25, 0.0, 0.0, 0.0, 62358.24, 0.0, 0.0, 18335.96, 0.0, 0.0, 0.0, 24664450.08, 24194203.89, 70411893.16, 468006.25, 0.0, 0.0, 0.0, 62358.24, 0.0, 0.0, 18335.96, 0.0, 0.0, 0.0, 175677.22, 222041.89, 72527.08, 0.0, 172833290.55], ['SABEMI PREVIDÊNCIA PRIVADA', 35487461.73, 17963.05, 0.0, 0.0, 0.0, 0.0, 0.0, 0.0, 0.0, 0.0, 124.97, 0.0, 0.0, 0.0, 4007174.87, 4004994.62, 0.0, 0.0, 0.0, 0.0, 0.0, 0.0, 0.0, 0.0, 124.97, 0.0, 0.0, 0.0, 0.0, 2180.25, 0.0, 0.0, 39494636.6], ['SABEMI SEGURADORA S.A.', 109150338.2, 610891.19, 99201968.25, 0.0, 9172849.41, 0.0, 0.0, 16800668.87, 36349.4, 0.0, 17643.19, 0.0, 0.0, 0.0, 75665913.25, 72986918.43, 99201968.25, 0.0, 9172849.41, 0.0, 0.0, 16800668.87, 36349.4, 0.0, 17643.19, 0.0, 0.0, 0.0, 32004.61, 2076372.43, 570617.78, 0.0, 184816251.45], ['SAFRA SEGUROS GERAIS S.A.', 172871001.85, 1786877.92, 0.0, 0.0, 0.0, 0.0, 0.0, 82420242.9, 0.0, 0.0, 0.0, 0.0, 0.0, 0.0, 8922923.0, 8471224.89, 0.0, 0.0, 0.0, 0.0, 0.0, 82420242.9, 0.0, 0.0, 0.0, 0.0, 0.0, 0.0, 190323.35, 152363.24, 109011.52, 0.0, 181793924.85], ['SAFRA VIDA E PREVIDÊNCIA S.A.', 6734160416.7, 3171933.49, 58383526.25, 466963.63, 0.0, 0.0, 0.0, 2016.34, 0.0, 0.0, 0.0, 0.0, 0.0, 0.0, 7833674.94, 1589802.69, 58383526.25, 466963.63, 0.0, 0.0, 0.0, 2016.34, 0.0, 0.0, 0.0, 0.0, 0.0, 0.0, 217084.03, 182662.98, 5844125.24, 0.0, 6741994091.64], ['SANCOR SEGUROS DO BRASIL S.A.', 180574638.27, 32126.5, 12683307.33, 0.0, 0.0, 0.0, 0.0, 0.0, 0.0, 0.0, 0.0, 0.0, 0.0, 0.0, 13130118.5, 6990320.35, 12683307.33, 0.0, 0.0, 0.0, 0.0, 0.0, 0.0, 0.0, 0.0, 0.0, 0.0, 0.0, 178505.45, 3026752.37, 2934540.33, 0.0, 193704756.77], ['SANTANDER CAPITALIZAÇÃO S.A.', 657027060.81, 4189511.42, 4667885.39, 0.0, 1339427.42, 0.0, 0.0, 6374757.06, 0.0, 0.0, 27247.05, 54096.6, 54096.6, 0.0, 1461273943.82, 1326577632.66, 4667885.39, 0.0, 1339427.42, 0.0, 0.0, 6374757.06, 0.0, 0.0, 27247.05, 54096.6, 54096.6, 0.0, 12473.0, 1562445.03, 133121393.13, 0.0, 2118301004.63], ['SCOR Brasil Resseguros S.A.', 176039622.15999997, 31738253.61, 20001.22, 0.0, 0.0, 0.0, 0.0, 23433001.3, 0.0, 0.0, 0.0, 0.0, 0.0, 0.0, 92076274.36, 91650959.99, 20001.22, 0.0, 0.0, 0.0, 0.0, 23433001.3, 0.0, 0.0, 0.0, 0.0, 0.0, 0.0, 0.0, 262261.45000000007, 163052.91999999998, 0.0, 268115896.51999998], ['SEGURADORA BRASILEIRA DE CRÉDITO À EXPORTAÇÃO S.A.', 64436791.3, 3778800.73, 1491450.33, 4668.97, 0.0, 0.0, 0.0, 12726.47, 0.0, 0.0, 0.0, 0.0, 0.0, 0.0, 32162498, 31938476.3, 1491450.33, 4668.97, 0.0, 0.0, 0.0, 12726.47, 0.0, 0.0, 0.0, 0.0, 0.0, 0.0, 224021.7, 0.0, 0.0, 0.0, 96599289.3], ['SEGURADORA LÍDER DO CONSÓRCIO DO SEGURO DPVAT S.A.', 477978849.73, 95165830.53, 0.0, 0.0, 0.0, 0.0, 0.0, 0.0, 0.0, 0.0, 0.0, 0.0, 0.0, 0.0, 1293784.93, 1097305.27, 0.0, 0.0, 0.0, 0.0, 0.0, 0.0, 0.0, 0.0, 0.0, 0.0, 0.0, 0.0, 0.0, 128973.08, 67506.58, 0.0, 479272634.66], ['SEGUROS SURA S.A.', 812110028.09, 4528864.82, 167248180, 138784875.91, 0.0, 0.0, 238788413.64, 1062907.0, 334976.11, 0.0, 98365.0, 24888063.29, 21841481.61, 3046581.68, 214885460.44, 178409622.93, 167248180, 138784875.91, 0.0, 0.0, 238788413.64, 1062907.0, 334976.11, 0.0, 98365.0, 24888063.29, 21841481.61, 3046581.68, 0.0, 8618704.18, 27857133.33, 0.0, 1026995488.53], ['SINAF PREVIDENCIAL CIA. DE SEGUROS', 42888028.52, 1103620.01, 0.0, 93999465.82, 0.0, 0.0, 1343161.44, 0.0, 0.0, 0.0, 0.0, 0.0, 0.0, 0.0, 32388636.19, 21813198.5, 0.0, 93999465.82, 0.0, 0.0, 1343161.44, 0.0, 0.0, 0.0, 0.0, 0.0, 0.0, 0.0, 153229.11, 9425173.21, 997035.37, 0.0, 75276664.71], ['SOCIEDADE CAXIENSE DE MÚTUO SOCORRO', 25834265.46, 28153.74, 7284036.67, 24453816.81, 0.0, 0.0, 87905371.13, 56450.48, 0.0, 0.0, 41214.3, 3242696.9, 3242696.9, 0.0, 10405368.17, 4513722.51, 7284036.67, 24453816.81, 0.0, 0.0, 87905371.13, 56450.48, 0.0, 0.0, 41214.3, 3242696.9, 3242696.9, 0.0, 5582667.43, 308978.23, 0.0, 0.0, 36239633.63], ['Sompo Seguros S.A.', 1713544095.01, 22650347.2, 29003158, 0.0, 0.0, 0.0, 0.0, 1872.73, 0.0, 0.0, 0.0, 0.0, 0.0, 0.0, 1614298611.2, 1074500058.95, 29003158, 0.0, 0.0, 0.0, 0.0, 1872.73, 0.0, 0.0, 0.0, 0.0, 0.0, 0.0, 203411439.72, 77112157.9, 259274954.63, 0.0, 3327842706.21], ['STARR INTERNATIONAL BRASIL SEGURADORA S.A.', 78527848.52, 1069381.79, 1442538270.8, 0.0, 0.0, 0.0, 0.0, 92845473.83, 0.0, 0.0, 220855.42, 0.0, 0.0, 0.0, 5587657.01, 4699800.24, 1442538270.8, 0.0, 0.0, 0.0, 0.0, 92845473.83, 0.0, 0.0, 220855.42, 0.0, 0.0, 0.0, 0.0, 438868.17, 448988.6, 0.0, 84115505.53], ['SUHAI SEGURADORA S.A.', 86259414.15, 102063.7, 243096505.37, 0.0, 0.0, 0.0, 0.0, 0.0, 0.0, 0.0, 0.0, 0.0, 0.0, 0.0, 894202.43, 0.0, 243096505.37, 0.0, 0.0, 0.0, 0.0, 0.0, 0.0, 0.0, 0.0, 0.0, 0.0, 0.0, 0.0, 837309.29, 56893.14, 0.0, 87153616.58], ['SUL AMÉRICA CAPITALIZAÇÃO S.A. - SULACAP', 928782064.32, 1790064.47, 143369883.19, 204300320.48, 0.0, 28517903.3, 634535904.61, 2461550.63, -165637.51, 0.0, 301890.69, 30699268.13, 30699268.13, 0.0, 218555545.42, 149437629.31, 143369883.19, 204300320.48, 0.0, 0.0, 634535904.61, 2461550.63, -165637.51, 0.0, 301890.69, 30699268.13, 30699268.13, 0.0, 68156806.35, 785568.98, 175540.78, 0.0, 1147337609.74], ['SUL AMÉRICA CIA. NACIONAL DE SEGUROS', 3567785859.65, 17564055.18, 205754789.91, 39324710.95, 0.0, 0.0, 59356571.8, 6523912.86, 0.0, 0.0, 0.0, 21686415.23, 21686415.23, 0.0, 4463069469.36, 1952307444.23, 205754789.91, 39324710.95, 0.0, 0.0, 59356571.8, 6523912.86, 0.0, 0.0, 0.0, 21686415.23, 21686415.23, 0.0, 2410268629.51, 34080837.58, 66412558.04, 0.0, 8030855329.01], ['SUL AMÉRICA SEGUROS DE PESSOAS E PREVIDÊNCIA S.A.', 5512336534.52, 4250378.72, 0.0, 0.0, 0.0, 0.0, 0.0, 23109.51, 0.0, 0.0, 0.0, 0.0, 0.0, 0.0, 771632217.01, 767288032.42, 0.0, 0.0, 0.0, 0.0, 0.0, 23109.51, 0.0, 0.0, 0.0, 0.0, 0.0, 0.0, 0.0, 1467505.54, 2876679.05, 0.0, 6283968751.53], ['SWISS RE BRASIL RESSEGUROS S.A.', 614796273.53, 3766303.48, 55437142.31, 0.0, 0.0, 0.0, 0.0, 17708.68, 0.0, 0.0, 0.0, 0.0, 0.0, 0.0, 230948099.18, 229811546.66, 55437142.31, 0.0, 0.0, 0.0, 0.0, 17708.68, 0.0, 0.0, 0.0, 0.0, 0.0, 0.0, 59400.0, 1077152.52, 0.0, 0.0, 845744372.71], ['SWISS RE CORPORATE SOLUTIONS BRASIL SEGUROS S.A.', 937655891.14, 3091746.55, 222596199.99, 87344185.18, 0.0, 0.0, 187306448.01, 85974152.33, 0.0, 0.0, 126405.91, 9441589.37, 9339177.75, 102411.62, 353470729.21, 345915757.75, 222596199.99, 87344185.18, 0.0, 0.0, 187306448.01, 85974152.33, 0.0, 0.0, 126405.91, 9441589.37, 9339177.75, 102411.62, 1011220.53, 6270391.61, 273359.32, 0.0, 1291126620.35], ['TERRA BRASIS RESSEGUROS S.A.', 278647427.11, 2222645.15, 0.0, 16790254.14, 0.0, 0.0, 47364467.65, 8709341.69, 0.0, 0.0, 0.0, 6638203.26, 6555702.46, 82500.8, 5571373.7, 4980741.0, 0.0, 16790254.14, 0.0, 0.0, 47364467.65, 8709341.69, 0.0, 0.0, 0.0, 6638203.26, 6555702.46, 82500.8, 0.0, 251538.99, 339093.71, 0.0, 284218800.81], ['TOKIO MARINE SEGURADORA S.A.', 3099517842.28, 89750421.1, 3187483.46, 0.0, 14142.0, 0.0, 0.0, 1367799.23, 0.0, 0.0, 5751.69, 0.0, 0.0, 0.0, 2459570850.39, 2423245323.75, 3187483.46, 0.0, 14142.0, 0.0, 0.0, 1367799.23, 0.0, 0.0, 5751.69, 0.0, 0.0, 0.0, 1375678.76, 27519804.23, 7430043.65, 0.0, 5559088692.67], ['TOO SEGUROS S.A.', 1285412537.03, 410317.84, 0.0, 0.0, 0.0, 0.0, 0.0, 4698486.84, 0.0, 0.0, 0.0, 0.0, 0.0, 0.0, 634311306.84, 150075546.99, 0.0, 0.0, 0.0, 0.0, 0.0, 4698486.84, 0.0, 0.0, 0.0, 0.0, 0.0, 0.0, 2693608.1, 1387716.27, 480154435.48, 0.0, 1919723843.87], ['TRAVELERS SEGUROS BRASIL S.A.', 159829034.94, 1026575.95, 14933243.07, 0.0, 19441017.55, 0.0, 0.0, 1052755.76, 33720.64, 45174.42, 61025.8, 0.0, 0.0, 0.0, 103296528.02, 100774254.2, 14933243.07, 0.0, 19441017.55, 0.0, 0.0, 1052755.76, 33720.64, 45174.42, 61025.8, 0.0, 0.0, 0.0, 298936.86, 1908266.83, 315070.13, 0.0, 263125562.96], ['UNIÃO SEGURADORA S.A. - VIDA E PREVIDÊNCIA', 14635080.1, 3733396.15, 32017989.72, 0.0, 0.0, 0.0, 0.0, 8124973.79, 0.0, 0.0, 0.0, 0.0, 0.0, 0.0, 4380459.3, 3299894.71, 32017989.72, 0.0, 0.0, 0.0, 0.0, 8124973.79, 0.0, 0.0, 0.0, 0.0, 0.0, 0.0, 724389.41, 345677.05, 10498.13, 0.0, 19015539.4], ['UNIMED SEGURADORA S.A.', 731385237.34, 7819958.35, 543933804.96, 185795294.22, 0.0, 0.0, 238895200.98, 5143918.02, 26266076.41, 215352.39, 2332283.28, 23966977.18, 23966977.18, 0.0, 877846141.4599999, 341550941.37, 543933804.96, 185795294.22, 0.0, 0.0, 238895200.98, 5143918.02, 26266076.41, 215352.39, 2332283.28, 23966977.18, 23966977.18, 0.0, 493210230.64000005, 27805528.03000001, 15279441.42, 0.0, 1609231378.8], ['UNIMED SEGUROS PATRIMONIAIS S.A.', 21841284.99, 27787.76, 0.0, 0.0, 0.0, 0.0, 0.0, 38437384.32, 0.0, 0.0, 0.0, 0.0, 0.0, 0.0, 23838823.36, 19712703.98, 0.0, 0.0, 0.0, 0.0, 0.0, 38437384.32, 0.0, 0.0, 0.0, 0.0, 0.0, 0.0, 0.0, 2538.02, 4123581.36, 0.0, 45680108.35], ['Upofa - União Previdencial', 967345.72, 12227.25, 65316008.72, 3859642.9, 0.0, 0.0, 2543016.71, 845342.11, 577665.31, 128746.52, 78019.51, 906215.86, 906215.86, 0.0, 736649.18, 637923.14, 65316008.72, 3859642.9, 0.0, 0.0, 2543016.71, 845342.11, 577665.31, 128746.52, 78019.51, 906215.86, 906215.86, 0.0, 40642.8, 57906.54, 176.7, 0.0, 1703994.9], ['USEBENS SEGUROS S.A.', 76115155.58, 352785.69, 8069.17, 0.0, 0.0, 0.0, 178692.49, 533190.9, 0.0, 0.0, 0.0, 0.0, 0.0, 0.0, 16704298.99, 16396639.75, 8069.17, 0.0, 0.0, 0.0, 178692.49, 533190.9, 0.0, 0.0, 0.0, 0.0, 0.0, 0.0, 0.0, 211326.92, 96332.32, 0.0, 92819454.57], ['VANGUARDA COMPANHIA DE SEGUROS GERAIS', 18285394.97, 317965.79, 19754543.11, 160078660.1, 0.0, 0.0, 170976791.66, 356476.86, 40732.92, 0.0, 34158.2, 9872231.87, 9253056.58, 619175.29, 2193240.22, 2115949.95, 19754543.11, 160078660.1, 0.0, 0.0, 170976791.66, 356476.86, 40732.92, 0.0, 34158.2, 9872231.87, 9253056.58, 619175.29, 35910.43, 25924.02, 15455.82, 0.0, 20478635.19], ['VANGUARDACAP CAPITALIZAÇÃO S.A.', 32136755.38, 211822.63, 49762521.09, 9458930.34, 0.0, 16698932.21, 222238.81, 11646983.79, 0.0, 0.0, 799.18, 117077.36, 117077.36, 0.0, 22060618.39, 13964872.71, 49762521.09, 9458930.34, 0.0, 0.0, 222238.81, 11646983.79, 0.0, 0.0, 799.18, 117077.36, 117077.36, 0.0, 0.0, 97945.4, 7997800.28, 0.0, 54197373.77], ['VIRGINIA SURETY COMPANHIA DE SEGUROS DO BRASIL', 216822766.07, 7770227.609999999, 2041276973.78, 698867430.59, 0.0, 0.0, 169857962.52, 16061027.35, 17213009.5, 0.0, 8997272.44, 323917554.55, 313965628.04, 9951926.51, 455541619.2, 320358470.71, 2041276973.78, 698867430.59, 0.0, 0.0, 169857962.52, 16061027.35, 17213009.5, 0.0, 8997272.44, 323917554.55, 313965628.04, 9951926.51, 0.0, 1063784.1500000004, 134119364.34000002, 0.0, 672364385.27], ['VIVER PREVIDÊNCIA', 30804505.51, 745868.0, 280630420.76, 796568.84, 0.0, 0.0, 81499585.26, 51290411.74, 0.0, 0.0, 564667.81, 1678376.38, 1678376.38, 0.0, 13031208.31, 10660285.93, 280630420.76, 796568.84, 0.0, 0.0, 81499585.26, 51290411.74, 0.0, 0.0, 564667.81, 1678376.38, 1678376.38, 0.0, 53545.24, 1371644.67, 945732.47, 0.0, 43835713.82], ['XL Resseguros Brasil S.A.', 468917036.17, 1737632.11, 1256257421.84, 0.0, 0.0, 0.0, 0.0, 23812917.44, 0.0, 0.0, 469956.14, 0.0, 0.0, 0.0, 186835.21, 0.0, 1256257421.84, 0.0, 0.0, 0.0, 0.0, 23812917.44, 0.0, 0.0, 469956.14, 0.0, 0.0, 0.0, 0.0, 186835.21, 0.0, 0.0, 469103871.38], ['XL Seguros Brasil S.A.', 382129432.62, 17899540.55, 695583624.71, 0.0, 0.0, 0.0, 0.0, 138729654.35, 0.0, 0.0, 0.0, 0.0, 0.0, 0.0, 9336234.94, 8539044.43, 695583624.71, 0.0, 0.0, 0.0, 0.0, 138729654.35, 0.0, 0.0, 0.0, 0.0, 0.0, 0.0, 0.0, 564852.94, 232337.57, 0.0, 391465667.56], ['ZURICH BRASIL CAPITALIZAÇÃO S.A.', 6522175.67, 485562.74, 10328245661.16, 154341356.11, 369968.42, 0.0, 30987539.62, 26479829.34, 0.0, 0.0, 735738.96, 48910137.61, 21603473.81, 27306663.8, 23162820.06, 16496591.06, 10328245661.16, 154341356.11, 369968.42, 0.0, 30987539.62, 26479829.34, 0.0, 0.0, 735738.96, 48910137.61, 21603473.81, 27306663.8, 0.0, 0.0, 6666229.0, 0.0, 29684995.73], ['ZURICH BRASIL COMPANHIA DE SEGUROS', 212351297.23, 719529.28, 821192404.68, 0.0, 0.0, 0.0, 301732.4, 238680850.97, 0.0, 243437.32, 0.0, 74843248.14, 21062137, 53781111.14, 31552801.23, 18904938.19, 821192404.68, 0.0, 0.0, 0.0, 301732.4, 238680850.97, 0.0, 243437.32, 0.0, 74843248.14, 21062137, 53781111.14, 0.0, 1459765.4, 11188097.64, 0.0, 243904098.46], ['ZURICH BRASIL VIDA E PREVIDÊNCIA S.A.', 989914040.96, 6021243.93, 87638035.99, 50208720.09, 0.0, 0.0, 12006740.64, 1952575.13, 1460375.97, 0.0, 314103.4, 38362078.91, 38362078.91, 0.0, 19579376.39, 19520793.05, 87638035.99, 50208720.09, 0.0, 0.0, 12006740.64, 1952575.13, 1460375.97, 0.0, 314103.4, 38362078.91, 38362078.91, 0.0, 0.0, 58583.34, 0.0, 0.0, 1009493417.35], ['ZURICH MINAS BRASIL SEGUROS S.A.', 3691764548.57, 85412489.51, 157826585.85, 1336.32, 0.0, 0.0, 12998471.49, 149836492.98, 0.0, 0.0, 0.0, 38520079.35, 38520079.35, 0.0, 2834233838.75, 1813982850.54, 157826585.85, 1336.32, 0.0, 0.0, 12998471.49, 149836492.98, 0.0, 0.0, 0.0, 38520079.35, 38520079.35, 0.0, 19868152.98, 19078892.42, 981303942.81, 0.0, 6525998387.32], ['ZURICH RESSEGURADORA BRASIL S.A.', 1001883770.06, 10250695.59, 22119398.51, 0.0, 0.0, 0.0, 0.0, 2746934.1, 0.0, 0.0, 18050.17, 0.0, 0.0, 0.0, 464881708.21, 464500128.33, 22119398.51, 0.0, 0.0, 0.0, 0.0, 2746934.1, 0.0, 0.0, 18050.17, 0.0, 0.0, 0.0, 0.0, 0.0, 381579.88, 0.0, 1466765478.27], ['ZURICH SANTANDER BRASIL SEGUROS E PREVIDÊNCIA S.A.', 32346042604.359997, 17482111.829999983, 16417792.16, 0.0, 0.0, 0.0, 0.0, 254298.97, 0.0, 0.0, 0.0, 0.0, 0.0, 0.0, 4131939751.0599995, 3061453840.1899996, 16417792.16, 0.0, 0.0, 0.0, 0.0, 254298.97, 0.0, 0.0, 0.0, 0.0, 0.0, 0.0, 142898126.07999998, 2407282.13, 925180502.66, 0.0, 36477982355.42], ['ZURICH SANTANDER BRASIL SEGUROS S.A.', 441845126.03999996, 2855430.64, 44978166.87, 6549130.75, 0.0, 0.0, 2980690.76, 8208796.53, 57807.0, 0.0, 157239.74, 1521759.38, 1521759.38, 0.0, 324422369.57, 324359156.32, 44978166.87, 6549130.75, 0.0, 0.0, 2980690.76, 8208796.53, 57807.0, 0.0, 157239.74, 1521759.38, 1521759.38, 0.0, 0.0, 0.0, 63213.25, 0.0, 766267495.6099999]]\n"
          ],
          "name": "stdout"
        }
      ]
    },
    {
      "cell_type": "code",
      "metadata": {
        "id": "WWjE4pcUHMty"
      },
      "source": [
        "# Criação do dataframe para facilitar a visualização e das colunas\r\n",
        "    # Tem que ter a mesma quantidade de colunas e contas para rodar\r\n",
        "\r\n",
        "# Adiciona o nome seguradora no indice 0 da coluna\r\n",
        "nome_contas.insert(0,'SEGURADORA')\r\n",
        "nome_colunas = nome_contas\r\n"
      ],
      "execution_count": 10,
      "outputs": []
    },
    {
      "cell_type": "code",
      "metadata": {
        "id": "zCcRkL8EoZx0"
      },
      "source": [
        "# Mudando o cabeçalho da última coluna ('**********   TOTAL DO ATIVO   ********\r\n",
        "# **') para TOTAL DO ATIVO\r\n",
        "nome_colunas.pop((nome_colunas.index('**********   TOTAL DO ATIVO   **********')))\r\n",
        "nome_colunas.append('TOTAL DO ATIVO')"
      ],
      "execution_count": 11,
      "outputs": []
    },
    {
      "cell_type": "code",
      "metadata": {
        "colab": {
          "base_uri": "https://localhost:8080/"
        },
        "id": "TGNbQdJTnFlX",
        "outputId": "bc9f1b19-313a-4512-de3d-2502f04bb263"
      },
      "source": [
        "# Cria o data frame\r\n",
        "df_seguradoras = pd.DataFrame(columns=nome_colunas)\r\n",
        "\r\n",
        "# Armazena cada seguradora em uma linha do dataframe, um abaixo do outro\r\n",
        "for i in range(len(nomes_seguradoras)):\r\n",
        "    df_seguradoras.loc[len(df_seguradoras)] = informacoes_organizadas[i]\r\n",
        "\r\n",
        "print(df_seguradoras)\r\n"
      ],
      "execution_count": 12,
      "outputs": [
        {
          "output_type": "stream",
          "text": [
            "                                            SEGURADORA  ...  TOTAL DO ATIVO\n",
            "0                              ACVAT- PREVIDENCIA S.A.  ...    3.471043e+06\n",
            "1    AGÊNCIA BRASILEIRA GESTORA DE FUNDOS GARANTIDO...  ...    0.000000e+00\n",
            "2                           AIG RESSEGUROS BRASIL S.A.  ...    7.213442e+08\n",
            "3                              AIG SEGUROS BRASIL S.A.  ...    1.891339e+09\n",
            "4                         ALFA PREVIDÊNCIA E VIDA S.A.  ...    6.773950e+08\n",
            "..                                                 ...  ...             ...\n",
            "168              ZURICH BRASIL VIDA E PREVIDÊNCIA S.A.  ...    1.009493e+09\n",
            "169                   ZURICH MINAS BRASIL SEGUROS S.A.  ...    6.525998e+09\n",
            "170                   ZURICH RESSEGURADORA BRASIL S.A.  ...    1.466765e+09\n",
            "171  ZURICH SANTANDER BRASIL SEGUROS E PREVIDÊNCIA ...  ...    3.647798e+10\n",
            "172               ZURICH SANTANDER BRASIL SEGUROS S.A.  ...    7.662675e+08\n",
            "\n",
            "[173 rows x 34 columns]\n"
          ],
          "name": "stdout"
        }
      ]
    },
    {
      "cell_type": "code",
      "metadata": {
        "id": "jtMPk_EqNAkS"
      },
      "source": [
        "# Salvar em csv\r\n",
        "# df.to_csv(r'D:\\Google Drive\\prog\\projetos\\TCC\\Seguradoras.csv', index = False)\r\n",
        "\r\n",
        "# Salvar em exvel\r\n",
        "df_seguradoras.to_excel('Ativo2016.xlsx')"
      ],
      "execution_count": 13,
      "outputs": []
    }
  ]
}