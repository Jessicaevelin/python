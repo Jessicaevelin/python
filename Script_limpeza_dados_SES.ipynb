{
  "nbformat": 4,
  "nbformat_minor": 0,
  "metadata": {
    "colab": {
      "name": "Script_limpeza_dados_SES.ipynb",
      "provenance": [],
      "collapsed_sections": [],
      "authorship_tag": "ABX9TyOlywoUGI6lo9E8XXVUMtcA",
      "include_colab_link": true
    },
    "kernelspec": {
      "name": "python3",
      "display_name": "Python 3"
    }
  },
  "cells": [
    {
      "cell_type": "markdown",
      "metadata": {
        "id": "view-in-github",
        "colab_type": "text"
      },
      "source": [
        "<a href=\"https://colab.research.google.com/github/Jessicaevelin/python/blob/main/Script_limpeza_dados_SES.ipynb\" target=\"_parent\"><img src=\"https://colab.research.google.com/assets/colab-badge.svg\" alt=\"Open In Colab\"/></a>"
      ]
    },
    {
      "cell_type": "code",
      "metadata": {
        "id": "KDsh9_Foo_1G"
      },
      "source": [
        "# Pacotes\r\n",
        "import json  # Para ler o arquivo .json\r\n",
        "import pandas as pd  # Para criar o DataFrame\r\n",
        "import requests # Baixar o arquivo da internet\r\n",
        "import numpy as np # Para exportar para excel"
      ],
      "execution_count": 10,
      "outputs": []
    },
    {
      "cell_type": "code",
      "metadata": {
        "id": "1uTGe6diqTxD"
      },
      "source": [
        "# Função para ler o arquivo .JSON\r\n",
        "'''\r\n",
        "def ler_json():\r\n",
        "    with open('meuarquivo.json', 'r', encoding='utf8') as f:\r\n",
        "        return json.load(f)\r\n",
        "data = ler_json()\r\n"
      ],
      "execution_count": null,
      "outputs": []
    },
    {
      "cell_type": "code",
      "metadata": {
        "id": "kIgIssdVrNFj"
      },
      "source": [
        "# Importar os dados diretamente do SES\r\n",
        "\r\n",
        "# Parâmetros\r\n",
        "ano = 2016 # ano dos dados contábeis\r\n",
        "\r\n",
        "# Importação do JSON (WebScraping)\r\n",
        "\r\n",
        "# Ativo\r\n",
        "url = f'http://dados.susep.gov.br/olinda-ide/servico/informacoescontabeis/versao/v1/odata/ContabeisAtivo(Ano=@Ano)?@Ano=%27{ano}%27&$format=json'\r\n",
        "\r\n",
        "# Passivo\r\n",
        "#url =f'http://dados.susep.gov.br/olinda-ide/servico/informacoescontabeis/versao/v1/odata/ContabeisPassivo(Ano=@Ano)?@Ano=%27{ano}%27&$format=json'\r\n",
        "\r\n",
        "# Documentação Request: https://requests.readthedocs.io/pt_BR/latest/user/quickstart.html\r\n",
        "data = requests.get(url)\r\n",
        "data = data.json()\r\n",
        "\r\n",
        "# Transforma o dicionário data em lista obs.: Não consegui trabalhar bem com o formato de dicionário, lista é mais fácil\r\n",
        "dados = data['value']"
      ],
      "execution_count": 3,
      "outputs": []
    },
    {
      "cell_type": "code",
      "metadata": {
        "id": "HpmZE6M0ryme"
      },
      "source": [
        "# Informações básicas\r\n",
        "\r\n",
        "print(type(data))  # Tipo de variavel, Dicionario\r\n",
        "# print(data['value'])  # Localização das informações das empresas\r\n",
        "print(len(data['value']))  # Tamanho do arquivo, 70176 elementos\r\n",
        "print(data['value'][:1])  # O primeiro elemento do array"
      ],
      "execution_count": null,
      "outputs": []
    },
    {
      "cell_type": "code",
      "metadata": {
        "colab": {
          "base_uri": "https://localhost:8080/"
        },
        "id": "-t5YW1W_uFoS",
        "outputId": "d38dbecc-ddc9-4b44-b4c7-d92ec570968d"
      },
      "source": [
        "# Nome das contas\r\n",
        "\r\n",
        "nome_contas = []\r\n",
        "for i in range(0,33): # 33 é o indice do ativo total, depois disso é repetido\r\n",
        "    nome_contas.append(dados[i]['cmptitulo'])\r\n",
        "print(nome_contas)\r\n",
        "print(len(nome_contas))"
      ],
      "execution_count": 5,
      "outputs": [
        {
          "output_type": "stream",
          "text": [
            "['CIRCULANTE', 'DISPONÍVEL', 'APLICAÇÕES', 'CRÉDITOS DAS OPERAÇÕES COM SEGUROS E RESSEGUROS', 'CRÉDITOS DAS OPERAÇÕES COM PREVIDÊNCIA COMPLEMENTAR', 'CRÉDITOS DAS OPERAÇÕES DE CAPITALIZAÇÃO', 'ATIVOS DE RESSEGURO E RETROCESSÃO - PROVISÕES TÉCNICAS', 'TÍTULOS E CRÉDITOS A RECEBER', 'OUTROS VALORES E BENS', 'EMPRÉSTIMOS E DEPÓSITOS COMPULSÓRIOS', 'DESPESAS ANTECIPADAS', 'CUSTOS DE AQUISIÇÃO DIFERIDOS', 'DIFERIMENTO - VIGÊNCIA DO RISCO', 'DIFERIMENTO – OUTROS', 'ATIVO NÃO CIRCULANTE', 'REALIZÁVEL A LONGO PRAZO', 'APLICAÇÕES', 'CRÉDITOS DAS OPERAÇÕES COM SEGUROS E RESSEGUROS', 'CRÉDITOS DAS OPERAÇÕES COM PREVIDÊNCIA COMPLEMENTAR', 'CRÉDITOS DAS OPERAÇÕES COM CAPITALIZAÇÃO', 'ATIVOS DE RESSEGURO E RETROCESSÃO - PROVISÕES TÉCNICAS', 'TÍTULOS E CRÉDITOS A RECEBER', 'OUTROS VALORES E BENS', 'EMPRÉSTIMOS E DEPÓSITOS COMPULSÓRIOS', 'DESPESAS ANTECIPADAS', 'CUSTOS DE AQUISIÇÃO DIFERIDOS', 'DIFERIMENTO - VIGÊNCIA DO RISCO', 'DIFERIMENTO – OUTROS', 'INVESTIMENTOS', 'IMOBILIZADO', 'INTANGÍVEL', 'DIFERIDO', '**********   TOTAL DO ATIVO   **********']\n",
            "33\n"
          ],
          "name": "stdout"
        }
      ]
    },
    {
      "cell_type": "code",
      "metadata": {
        "id": "mR_8QljPyABN"
      },
      "source": [
        " # Testando duas formas de pesquisar as contas no banco de dados\r\n",
        " \r\n",
        "'''\r\n",
        "\r\n",
        "for i in range(len(dados)):\r\n",
        "  if dados[i]['cmptitulo'] == 'DISPONÍVEL':\r\n",
        "    conta0.append(dados[i]['cmptitulo'])\r\n",
        "\r\n",
        "for i in range(len(dados)):\r\n",
        "  if dados[i]['cmptitulo'] == nome_contas[1]:\r\n",
        "    conta1.append(dados[i]['cmptitulo'])\r\n",
        "\r\n",
        "print(conta0)\r\n",
        "print(len(conta0))\r\n",
        "\r\n",
        "print(conta1)\r\n",
        "print(len(conta1))\r\n",
        "'''"
      ],
      "execution_count": null,
      "outputs": []
    },
    {
      "cell_type": "code",
      "metadata": {
        "id": "8PRUAXajxbA_"
      },
      "source": [
        "# listas que vão receber os valores de cada conta\r\n",
        "    # depois encontrar um jeito menos manual de fazer isso\r\n",
        "\r\n",
        "nomes_seguradoras = []\r\n",
        "conta0 = []\r\n",
        "conta1 = []\r\n",
        "conta2 = []\r\n",
        "conta3 = []\r\n",
        "conta4 = []\r\n",
        "conta5 = []"
      ],
      "execution_count": 4,
      "outputs": []
    },
    {
      "cell_type": "code",
      "metadata": {
        "id": "YukXzPuh_uv3"
      },
      "source": [
        "# Selecionando as empresas, contas e seus valores de Janeiro de 2016.\r\n",
        "\r\n",
        "for i in range(len(dados)):\r\n",
        "  if dados[i]['mesreferencia'] == '2016-01-01':\r\n",
        "    if dados[i]['cmptitulo'] == nome_contas[32]:\r\n",
        "      nomes_seguradoras.append(dados[i]['entnome'])\r\n",
        "\r\n",
        "for i in range(len(dados)):\r\n",
        "    if dados[i]['mesreferencia'] == '2016-01-01':\r\n",
        "        if dados[i]['cmptitulo'] == nome_contas[0]:\r\n",
        "          conta0.append(dados[i]['valor'])\r\n",
        "        if dados[i]['cmptitulo'] == nome_contas[1]:\r\n",
        "          conta1.append(dados[i]['valor'])\r\n",
        "        if dados[i]['cmptitulo'] == nome_contas[2]:\r\n",
        "          conta2.append(dados[i]['valor'])\r\n",
        "        if dados[i]['cmptitulo'] == nome_contas[3]:\r\n",
        "          conta3.append(dados[i]['valor'])  \r\n",
        "        if dados[i]['cmptitulo'] == nome_contas[4]:\r\n",
        "          conta4.append(dados[i]['valor']) \r\n",
        "        if dados[i]['cmptitulo'] == nome_contas[5]:\r\n",
        "          conta5.append(dados[i]['valor'])  \r\n",
        "## Continuar para as 33 contas...        \r\n",
        "## Lembrar que quando roda a celula mais de uma vez os dados são acumulados"
      ],
      "execution_count": 6,
      "outputs": []
    },
    {
      "cell_type": "code",
      "metadata": {
        "colab": {
          "base_uri": "https://localhost:8080/"
        },
        "id": "7-QOJgQAAmA7",
        "outputId": "726649ba-f85a-4f7a-89a8-8461383114c2"
      },
      "source": [
        "# Juntando os nomes, contas e valores de cada seguradora em uma só lista.\r\n",
        "\r\n",
        "informacoes_organizadas = []\r\n",
        "\r\n",
        "for a in range(len(nomes_seguradoras)):\r\n",
        "    informacoes_organizadas.append([nomes_seguradoras[a], conta0[a], conta1[a], conta2[a], conta3[a] ])\r\n",
        "\r\n",
        "print(informacoes_organizadas)"
      ],
      "execution_count": 7,
      "outputs": [
        {
          "output_type": "stream",
          "text": [
            "[['ACVAT- PREVIDENCIA S.A.', 772482.46, 462228.82, 269494.93, 0.0], ['AGÊNCIA BRASILEIRA GESTORA DE FUNDOS GARANTIDORES E GARANTIAS S.A. – ABGF', 0.0, 0.0, 0.0, 0.0], ['AIG RESSEGUROS BRASIL S.A.', 720406191.82, 10665353.27, 0.0, 0.0], ['AIG SEGUROS BRASIL S.A.', 1528349038.3, 59930465.04, 0.0, 0.0], ['ALFA PREVIDÊNCIA E VIDA S.A.', 649022939.85, 516873.72, 147842724.1, 50584155.74], ['Alfa Seguradora S.A.', 486733548.75, 832983.48, 0.0, 0.0], ['ALIANÇA DO BRASIL SEGUROS S.A.', 1051417111.94, 12744980.35, 505757689.37, 353461284.33], ['ALLIANZ GLOBAL CORPORATE & SPECIALTY RESSEGUROS BRASIL S.A.', 1774885458.33, 10608847.03, 1370281.98, 67036391.51], ['ALLIANZ SEGUROS S.A.', 3780441196.77, 4153958.22, 625851551.86, 12330274.9], ['ALM SEGURADORA S.A - MICROSSEGURADORA', 1222893.15, 10.0, 0.0, 0.0], ['AMERICAN LIFE COMPANHIA DE SEGUROS', 157396209.91, 5561888.97, 352254221.64, 75452279.32], ['ANGELUS SEGUROS S.A.', 16129465.83, 208638.23, 66122.13, 0.0], ['APLICAP CAPITALIZAÇÃO S.A', 2585930.83, 10862.19, 166727150.32, 617669465.27], ['APLUB - ASSOCIAÇÃO DOS PROFISSIONAIS LIBERAIS UNIVERSITÁRIOS DO BRASIL', 67130617.1, 284706.45, 288398581.78, 4036.78], ['APLUB CAPITALIZAÇÃO S.A.', 103001109.06, 4317148.26, 31094277.07, 332805564.88], ['ARC PREVIDÊNCIA PRIVADA', 810162.53, 589303.35, 360130935.96, 15399231.99], ['ARCESP PREVIDÊNCIA PRIVADA', 168909.54, 138094.11, 435998240.26, 1179013128.96], ['ARGO SEGUROS BRASIL S.A.', 177889448.79, 1358805.49, 1190475923.11, 55813112.95], ['ARUANA SEGURADORA S. A.', 41741668.83, 295606.14, 1218286.42, 0.0], ['ASPECIR PREVIDÊNCIA', 16356141.68, 2988592.68, 0.0, 0.0], ['ASSURANT SEGURADORA S.A.', 590532859.79, 647558.34, 100196695.55, 16772323.62], ['ATLÂNTICA COMPANHIA DE SEGUROS', 688716420.28, 7.33, 0.0, 0.0], ['ATRADIUS CRÉDITO Y CAUCIÓN SEGURADORA S.A.', 150794085.05, 5755776.39, 15764925.3, 128526.94], ['AUSTRAL RESSEGURADORA S.A.', 716962020.76, 25990598.83, 0.0, 0.0], ['AUSTRAL SEGURADORA S.A.', 504725754.16, 24370467.23, 1989589.57, 0.0], ['AUXILIADORA PREVIDÊNCIA', 1011867.22, 280037.52, 5893988.2, 0.0], ['AXA CORPORATE SOLUTIONS SEGUROS S.A.', 642284633.96, 2046913.41, 62042718.31, 0.0], ['AXA SEGUROS S.A.', 151927702.34, 1245767.2, 138378276.89, 0.0], ['AXA XL RESSEGUROS S.A.', 111140543.07, 2955415.58, 62409314.07, 0.0], ['AZUL COMPANHIA DE SEGUROS GERAIS', 1932508102.12, 158442959.51, 0.0, 0.0], ['BAMÉRCIO S.A. PREVIDÊNCIA PRIVADA', 12610099.08, 96408.53, 34906.18, 0.0], ['BANESTES SEGUROS S.A.', 152222454.36, 1625088.38, 239434.12, 0.0], ['BCS SEGUROS S.A.', 41417471.44, 11486.94, 30815.43, 0.0], ['Berkley International do Brasil Seguros S/A', 290069684.93, 8720100.0, 0.0, 0.0], ['BMC PREVIDÊNCIA PRIVADA S.A.', 0.0, 0.0, 58565054.52, 60217349.91], ['BMG SEGUROS S.A.', 20035488.79, 59435.05, 105265911.04, 24141.21], ['BRADESCO AUTO/RE COMPANHIA DE SEGUROS', 5148172800.71, 56914423.9, 40211131.17, 925405.76], ['BRADESCO CAPITALIZAÇÃO S.A.', 3653932368.65, 33180.86, 0.0, 0.0], ['BRADESCO SEGUROS S.A', 6185331601.169999, 35754947.04, 4129524.88, 0.0], ['BRADESCO VIDA E PREVIDÊNCIA S.A.', 131785617462.69, 115205505.67, 3897279.33, 0.0], ['BRASILCAP CAPITALIZAÇÃO S.A.', 10967321877.61, 719478.77, 190214731.44, 79479141.39], ['BRASILPREV SEGUROS E PREVIDÊNCIA S/A', 142988810436.44, 3737490.13, 106374282.29, 0.0], ['BRASILSEG COMPANHIA DE SEGUROS', 5477144160.03, 127693059.56, 425588123.87, 59449000.75], ['BRASILVEÍCULOS COMPANHIA DE SEGUROS', 1504086945.01, 11794626.98, 0.0, 0.0], ['BTG Pactual Resseguradora S.A.', 942235193.72, 45568.65, 43553140.41, 17989391.37], ['BTG Pactual Vida e Previdência S.A.', 208188819.49, 38675.94, 0.0, 0.0], ['CAIXA CAPITALIZAÇÃO S/A', 1336686220.78, 1444118.95, 278005812.13, 252194719.11], ['CAIXA SEGURADORA S.A.', 5481051540.01, 13240350.2, 48793208.23, 0.0], ['CAIXA VIDA E PREVIDÊNCIA S.A.', 31557465634.36, 29984864.66, 149611366.09, 99379271.05], ['CAPEMISA CAPITALIZAÇÃO S.A.', 15090222.09, 357364.51, 16683250.53, 33183902.26], ['CAPEMISA SEGURADORA DE VIDA E PREVIDÊNCIA S/A', 724091224.91, 14239439.469999999, 4299.13, 0.0], ['CARDIF DO BRASIL SEGUROS E GARANTIAS S.A.', 579451105.82, 3827274.23, 1623638.29, 0.0], ['CARDIF DO BRASIL VIDA E PREVIDÊNCIA S/A', 922714913.45, 4220826.16, 249533970.19, 136108687.7], ['CENTAURO VIDA E PREVIDÊNCIA S.A.', 64330774.54, 368443.4, 0.0, 996550.68], ['CESCEBRASIL SEGUROS DE GARANTIAS E CRÉDITO S.A.', 150138425.58, 6033744.92, 47110605.88, 48605267.39], ['Chubb do Brasil Cia de Seguros', 837782410.18, 9068967.94, 54055091.74, 0.0], ['CHUBB RESSEGURADORA BRASIL S.A.', 537848222.49, 11380080.54, 1032560.52, 39583696.1], ['CHUBB SEGUROS DO BRASIL S.A.', 8907366853.5, 86228396.8, 78037852.57, 1731773.3], ['CIA. ITAÚ DE CAPITALIZAÇÃO', 3813897523.16, 4547693.93, 924098936.39, 587190650.68], ['Coface do Brasil Seguros de Crédito S/A', 206418965.87, 229439.59, 208237353.76, 2541497.0], ['COMPANHIA CAPITAL DE SEGUROS - MICROSSEGURADORA', 5639048.32, 0.0, 12396487.52, 0.0], ['COMPANHIA DE SEGUROS ALIANÇA DA BAHIA', 184398896.09, 1408993.86, 4471736.07, 0.0], ['COMPANHIA DE SEGUROS DO ESTADO DE SÃO PAULO - COSESP', 292285857.82, 11963264.35, 117425953.21, 19775640.71], ['COMPANHIA DE SEGUROS PREVIDÊNCIA DO SUL - PREVISUL', 198965142.9, 10582130.74, 138939589.77, 0.0], ['Companhia Excelsior de Seguros', 300032300.34, 10899691.77, 113497.16, 1535584.93], ['COMPREV SEGURADORA S.A.', 71610949.23, 650355.62, 0.0, 0.0], ['COMPREV VIDA E PREVIDÊNCIA S.A.', 125600412.39, 370933.27, 131887385.01, 76344270.77], ['DAYPREV VIDA E PREVIDÊNCIA S.A.', 59495266.87, 642760.65, 0.0, 508060.66], ['EQUATORIAL PREVIDÊNCIA COMPLEMENTAR', 12512112.95, 48699.43, 0.0, 0.0], ['EQUATORIAL SEGURADORA S/A - MICROSSEGUROS', 1512191.7, 3345.93, 0.0, 0.0], ['Essor Seguros S.A', 573953363.77, 2747582.82, 19353804.5, 0.0], ['EULER HERMES SEGUROS S.A.', 128576873.67, 5593287.38, 2245840.39, 0.0], ['Evidence Previdência', 1537106882.97, 1502282.92, 2195438064.66, 1447856700.03], ['FAIRFAX BRASIL SEGUROS CORPORATIVOS S.A.', 1024473946.64, 8970766.42, 2298655998.9, 487906.6], ['FAMILIA BANDEIRANTE PREVIDÊNCIA PRIVADA', 42094.66, 18985.15, 3598559382.33, 0.0], ['FATOR SEGURADORA S.A.', 594299842.61, 1510861.82, 3786837940.76, 0.0], ['FUTURO - PREVIDÊNCIA PRIVADA', 4848618.67, 273442.29, 3793241806.5099998, 134969746.16], ['GBOEX - GREMIO BENEFICENTE', 37331242.04, 1764304.8, 2237320.57, 0.0], ['GENERALI  BRASIL  SEGUROS S.A.', 1068518209.8, 41969302.36, 131237407873.68, 247322965.66], ['Gente Seguradora S.A.', 74258840.06, 4182.42, 32856185956.73, 2665748.62], ['HDI GLOBAL SEGUROS S.A', 373193329.6, 12079734.88, 10947881231.29, 0.0], ['HDI SEGUROS S.A.', 3293660204.53, 17468973.8, 1565120713.97, 0.0], ['ICATU CAPITALIZAÇÃO S.A.', 1303337025.1, 3249878.81, 142585763859.15, 2387852.09], ['ICATU SEGUROS S.A', 10605903773.12, 15833541.9, 9850727042.9, 0.0], ['INDIANA SEGUROS S.A.', 199771521.63, 7828891.5, 1918760217.24, 1867663616.75], ['INVEST CAPITALIZAÇÃO S.A.', 36436461.41, 6012817.98, 2852508712.62, 1285140307.78], ['INVESTPREV SEGURADORA S.A.', 64458389.28, 4798.25, 414896696.81, 780244149.75], ['INVESTPREV SEGUROS E PREVIDÊNCIA S.A.', 66597482.7, 3944480.92, 784348141.74, 178.85], ['IRB BRASIL RESSEGUROS S/A', 8036797321.43, 58700480.27, 455520718.16, 251423973.25], ['ITAU SEGUROS DE AUTO E RESIDÊNCIA S.A.', 2394174057.4, 126595772.23, 0.0, 0.0], ['ITAU SEGUROS S.A.', 6475647215.780002, 11027332.26, 207634930.69, 514450.7], ['ITAÚ VIDA E PREVIDÊNCIA S/A', 123297158961.78001, 31895324.44, 0.0, 0.0], ['ITAUSEG SEGURADORA S.A.', 175632351.22, 845966.66, 1210375852.17, 0.0], ['JUNTO RESSEGUROS S.A.', 490180037.55, 189891.77, 1546020527.22, 0.0], ['JUNTO SEGUROS S.A.', 720018121.83, 1576483.65, 3218670863.24, 1121567212.81], ['KIRTON CAPITALIZAÇÃO S.A.', 1046998255.66, 2428836.28, 2524569673.87, 20042891.96], ['KIRTON SEGUROS S.A.', 1269967177.24, 12056443.34, 31236537417.91, 5392106.25], ['KIRTON VIDA  E PREVIDÊNCIA S.A.', 12274515089.93, 9189531.0, 39754422.38, 0.0], ['KYOEI DO BRASIL COMPANHIA DE SEGUROS', 13359426.87, 222482.18, 14331017.02, 0.0], ['LIBERTY SEGUROS S.A.', 2117398746.46, 65160761.6, 1796672.31, 0.0], ['LIDERANÇA CAPITALIZAÇÃO S.A.', 651049053.83, 164736.78, 636958057.7300001, 11025024.39], ['LUIZASEG SEGUROS S.A.', 426065694.72, 182857.67, 350045261.96999997, 0.0], ['LUTERPREV- ENTIDADE LUTERANA DE PREVIDÊNCIA', 83902205.55, 734840.12, 168100968.65, 239056273.22], ['MAPFRE Capitalização S.A.', 81488319.58, 26919.93, 91163581.67, 0.0], ['MAPFRE PREVIDÊNCIA S.A.', 2842731488.62, 2266518.89, 497638632.3, 93934266.84], ['MAPFRE RE DO BRASIL COMPANHIA DE RESSEGUROS', 517129931.55, 21270861.64, 341729349.91, 0.0], ['MAPFRE SEGUROS GERAIS S.A.', 7568409625.17, 182739721.75, 55812219.66, 6927363.97], ['MAPFRE VIDA S.A.', 713818490.23, 19601624.3, 18532695.45, 0.0], ['MARKEL RESSEGURADORA DO BRASIL S.A.', 72233274.31, 8154443.5, 72336078.23, 21678415.1], ['MBM Previdência Complementar', 52056788.19, 13054241.87, 0.0, 137048.76], ['MBM SEGURADORA S.A.', 77690995.57, 21810091.12, 419711979.69, 292228789.14], ['METROPOLITAN LIFE SEGUROS E PREVIDÊNCIA PRIVADA S.A.', 1959325596.34, 981853.98, 311086720.39, 13518859.04], ['MITSUI SUMITOMO SEGUROS S.A.', 526425783.84, 7723303.05, 16022678.87, 265139482.85], ['MONGERAL AEGON SEGUROS E PREVIDÊNCIA S. A.', 629474892.32, 3502906.55, 157555651.96, 0.0], ['MUNICH RE DO BRASIL RESSEGURADORA S.A.', 1811937191.69, 61760736.85, 1781848967.8500001, 1785282229.0999997], ['NOBRE SEGURADORA DO BRASIL S.A.', 556331025.06, 4391284.85, 307887388.07, 44512889.849999994], ['OMINT SEGUROS S.A.', 69389271.86, 60893.89, 3807354851.73, 0.0], ['PATER SEGUROS S.A.', 8381901.7, 8161.73, 0.0, 0.0], ['PECÚLIO UNIÃO PREVIDÊNCIA PRIVADA', 1516707.67, 4153.39, 25965472.94, 75365683.17], ['PORTO SEGURO CAPITALIZAÇÃO S.A.', 329308815.71999997, 93457724, 69143017.93, 0.0], ['PORTO SEGURO COMPANHIA DE SEGUROS GERAIS', 4888581067.46, 167690576.05, 5525161.59, 0.0], ['PORTO SEGURO VIDA E PREVIDÊNCIA S/A.', 3291433475.25, 186422674.07000002, 1339408.21, 0.0], ['POTTENCIAL SEGURADORA S.A.', 425131759.41, 3261063.25, 156337206.65, 3237347.99], ['PQ SEGUROS S.A.', 62940257.81, 13041713.32, 2568922.88, 100765.41], ['PREVICORP Previdência Privada', 495022.06, 155667.26, 278785103.67, 868306.06], ['PREVIMAX PREVIDÊNCIA PRIVADA E SEGURADORA S.A.', 67221738.79, 685007.07, 0.0, 0.0], ['PREVIMIL PREVIDÊNCIA COMPLEMENTAR S.A.', 28407638.04, 52638.1, 144779425.95, 16653235.35], ['PRUDENTIAL DO BRASIL SEGUROS DE VIDA S.A', 787809826.44, 4076855.5, 13223712.15, 0.0], ['PRUDENTIAL DO BRASIL VIDA EM GRUPO S.A.', 15201555.65, 63012.82, 125840851.98, 63312113.91], ['RECÍPROCA ASSISTÊNCIA', 28080506.14, 33793.75, 0.0, 0.0], ['RIO GRANDE SEGUROS E PREVIDÊNCIA S.A.', 148168840.47, 3996686.23, 70411893.16, 468006.25], ['SABEMI PREVIDÊNCIA PRIVADA', 35487461.73, 17963.05, 0.0, 0.0], ['SABEMI SEGURADORA S.A.', 109150338.2, 610891.19, 99201968.25, 0.0], ['SAFRA SEGUROS GERAIS S.A.', 172871001.85, 1786877.92, 0.0, 0.0], ['SAFRA VIDA E PREVIDÊNCIA S.A.', 6734160416.7, 3171933.49, 58383526.25, 466963.63], ['SANCOR SEGUROS DO BRASIL S.A.', 180574638.27, 32126.5, 12683307.33, 0.0], ['SANTANDER CAPITALIZAÇÃO S.A.', 657027060.81, 4189511.42, 4667885.39, 0.0], ['SCOR Brasil Resseguros S.A.', 176039622.15999997, 31738253.61, 20001.22, 0.0], ['SEGURADORA BRASILEIRA DE CRÉDITO À EXPORTAÇÃO S.A.', 64436791.3, 3778800.73, 1491450.33, 4668.97], ['SEGURADORA LÍDER DO CONSÓRCIO DO SEGURO DPVAT S.A.', 477978849.73, 95165830.53, 0.0, 0.0], ['SEGUROS SURA S.A.', 812110028.09, 4528864.82, 167248180, 138784875.91], ['SINAF PREVIDENCIAL CIA. DE SEGUROS', 42888028.52, 1103620.01, 0.0, 93999465.82], ['SOCIEDADE CAXIENSE DE MÚTUO SOCORRO', 25834265.46, 28153.74, 7284036.67, 24453816.81], ['Sompo Seguros S.A.', 1713544095.01, 22650347.2, 29003158, 0.0], ['STARR INTERNATIONAL BRASIL SEGURADORA S.A.', 78527848.52, 1069381.79, 1442538270.8, 0.0], ['SUHAI SEGURADORA S.A.', 86259414.15, 102063.7, 243096505.37, 0.0], ['SUL AMÉRICA CAPITALIZAÇÃO S.A. - SULACAP', 928782064.32, 1790064.47, 143369883.19, 204300320.48], ['SUL AMÉRICA CIA. NACIONAL DE SEGUROS', 3567785859.65, 17564055.18, 205754789.91, 39324710.95], ['SUL AMÉRICA SEGUROS DE PESSOAS E PREVIDÊNCIA S.A.', 5512336534.52, 4250378.72, 0.0, 0.0], ['SWISS RE BRASIL RESSEGUROS S.A.', 614796273.53, 3766303.48, 55437142.31, 0.0], ['SWISS RE CORPORATE SOLUTIONS BRASIL SEGUROS S.A.', 937655891.14, 3091746.55, 222596199.99, 87344185.18], ['TERRA BRASIS RESSEGUROS S.A.', 278647427.11, 2222645.15, 0.0, 16790254.14], ['TOKIO MARINE SEGURADORA S.A.', 3099517842.28, 89750421.1, 3187483.46, 0.0], ['TOO SEGUROS S.A.', 1285412537.03, 410317.84, 0.0, 0.0], ['TRAVELERS SEGUROS BRASIL S.A.', 159829034.94, 1026575.95, 14933243.07, 0.0], ['UNIÃO SEGURADORA S.A. - VIDA E PREVIDÊNCIA', 14635080.1, 3733396.15, 32017989.72, 0.0], ['UNIMED SEGURADORA S.A.', 731385237.34, 7819958.35, 543933804.96, 185795294.22], ['UNIMED SEGUROS PATRIMONIAIS S.A.', 21841284.99, 27787.76, 0.0, 0.0], ['Upofa - União Previdencial', 967345.72, 12227.25, 65316008.72, 3859642.9], ['USEBENS SEGUROS S.A.', 76115155.58, 352785.69, 8069.17, 0.0], ['VANGUARDA COMPANHIA DE SEGUROS GERAIS', 18285394.97, 317965.79, 19754543.11, 160078660.1], ['VANGUARDACAP CAPITALIZAÇÃO S.A.', 32136755.38, 211822.63, 49762521.09, 9458930.34], ['VIRGINIA SURETY COMPANHIA DE SEGUROS DO BRASIL', 216822766.07, 7770227.609999999, 2041276973.78, 698867430.59], ['VIVER PREVIDÊNCIA', 30804505.51, 745868.0, 280630420.76, 796568.84], ['XL Resseguros Brasil S.A.', 468917036.17, 1737632.11, 1256257421.84, 0.0], ['XL Seguros Brasil S.A.', 382129432.62, 17899540.55, 695583624.71, 0.0], ['ZURICH BRASIL CAPITALIZAÇÃO S.A.', 6522175.67, 485562.74, 10328245661.16, 154341356.11], ['ZURICH BRASIL COMPANHIA DE SEGUROS', 212351297.23, 719529.28, 821192404.68, 0.0], ['ZURICH BRASIL VIDA E PREVIDÊNCIA S.A.', 989914040.96, 6021243.93, 87638035.99, 50208720.09], ['ZURICH MINAS BRASIL SEGUROS S.A.', 3691764548.57, 85412489.51, 157826585.85, 1336.32], ['ZURICH RESSEGURADORA BRASIL S.A.', 1001883770.06, 10250695.59, 22119398.51, 0.0], ['ZURICH SANTANDER BRASIL SEGUROS E PREVIDÊNCIA S.A.', 32346042604.359997, 17482111.829999983, 16417792.16, 0.0], ['ZURICH SANTANDER BRASIL SEGUROS S.A.', 441845126.03999996, 2855430.64, 44978166.87, 6549130.75]]\n"
          ],
          "name": "stdout"
        }
      ]
    },
    {
      "cell_type": "code",
      "metadata": {
        "colab": {
          "base_uri": "https://localhost:8080/"
        },
        "id": "Bxw8ehtPHWPR",
        "outputId": "b4b37516-6746-40db-f8b4-97463a8eaab4"
      },
      "source": [
        "nome_contas.insert(0,'SEGURADORAS') # Adiciona no indice 0 o nome SEGURADORAS\r\n",
        "colunas = nome_contas[:5]\r\n",
        "colunas"
      ],
      "execution_count": 8,
      "outputs": [
        {
          "output_type": "execute_result",
          "data": {
            "text/plain": [
              "['SEGURADORAS',\n",
              " 'CIRCULANTE',\n",
              " 'DISPONÍVEL',\n",
              " 'APLICAÇÕES',\n",
              " 'CRÉDITOS DAS OPERAÇÕES COM SEGUROS E RESSEGUROS']"
            ]
          },
          "metadata": {
            "tags": []
          },
          "execution_count": 8
        }
      ]
    },
    {
      "cell_type": "code",
      "metadata": {
        "colab": {
          "base_uri": "https://localhost:8080/"
        },
        "id": "WWjE4pcUHMty",
        "outputId": "9c9fb21b-d733-4fd3-8d97-9ee9db1c6208"
      },
      "source": [
        "# Criação do dataframe para facilitar a visualização e das colunas\r\n",
        "df_seguradoras = pd.DataFrame(columns=colunas)\r\n",
        "\r\n",
        "# Armazena cada seguradora em uma linha do dataframe, um abaixo do outro\r\n",
        "for i in range(5):\r\n",
        "    df_seguradoras.loc[len(df_seguradoras)] = informacoes_organizadas[i]\r\n",
        "\r\n",
        "print(df_seguradoras)\r\n"
      ],
      "execution_count": 9,
      "outputs": [
        {
          "output_type": "stream",
          "text": [
            "                                         SEGURADORAS  ...  CRÉDITOS DAS OPERAÇÕES COM SEGUROS E RESSEGUROS\n",
            "0                            ACVAT- PREVIDENCIA S.A.  ...                                             0.00\n",
            "1  AGÊNCIA BRASILEIRA GESTORA DE FUNDOS GARANTIDO...  ...                                             0.00\n",
            "2                         AIG RESSEGUROS BRASIL S.A.  ...                                             0.00\n",
            "3                            AIG SEGUROS BRASIL S.A.  ...                                             0.00\n",
            "4                       ALFA PREVIDÊNCIA E VIDA S.A.  ...                                      50584155.74\n",
            "\n",
            "[5 rows x 5 columns]\n"
          ],
          "name": "stdout"
        }
      ]
    },
    {
      "cell_type": "code",
      "metadata": {
        "id": "jtMPk_EqNAkS"
      },
      "source": [
        "# Salvar em csv\r\n",
        "# df.to_csv(r'D:\\Google Drive\\prog\\projetos\\TCC\\Seguradoras.csv', index = False)\r\n",
        "\r\n",
        "# Salvar em exvel\r\n",
        "df_seguradoras.to_excel('df.xlsx')"
      ],
      "execution_count": 11,
      "outputs": []
    }
  ]
}